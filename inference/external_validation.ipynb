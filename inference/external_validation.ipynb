{
 "cells": [
  {
   "cell_type": "code",
   "execution_count": 1,
   "metadata": {},
   "outputs": [
    {
     "name": "stdout",
     "output_type": "stream",
     "text": [
      "loaded ./bbox_models/d3c40newdata.pt\n"
     ]
    },
    {
     "name": "stderr",
     "output_type": "stream",
     "text": [
      "0it [00:00, ?it/s]"
     ]
    },
    {
     "name": "stdout",
     "output_type": "stream",
     "text": [
      "loaded ./segment_models/d3c40bbox.pt\n",
      "using path /projects/ab57/data/BraTS2021_Validation_Combined/\n",
      "reshaping prediction...\n",
      "(240, 240, 155)\n",
      "saving prediction to nifti file...\n"
     ]
    },
    {
     "name": "stderr",
     "output_type": "stream",
     "text": [
      "1it [00:11, 11.62s/it]"
     ]
    },
    {
     "name": "stdout",
     "output_type": "stream",
     "text": [
      "reshaping prediction...\n",
      "(240, 240, 155)\n",
      "saving prediction to nifti file...\n"
     ]
    },
    {
     "name": "stderr",
     "output_type": "stream",
     "text": [
      "2it [00:24, 12.01s/it]"
     ]
    },
    {
     "name": "stdout",
     "output_type": "stream",
     "text": [
      "reshaping prediction...\n",
      "(240, 240, 155)\n",
      "saving prediction to nifti file...\n"
     ]
    },
    {
     "name": "stderr",
     "output_type": "stream",
     "text": [
      "3it [00:36, 12.01s/it]"
     ]
    },
    {
     "name": "stdout",
     "output_type": "stream",
     "text": [
      "reshaping prediction...\n",
      "ET being converted to TC\n",
      "(240, 240, 155)\n",
      "saving prediction to nifti file...\n"
     ]
    },
    {
     "name": "stderr",
     "output_type": "stream",
     "text": [
      "4it [00:49, 12.18s/it]"
     ]
    },
    {
     "name": "stdout",
     "output_type": "stream",
     "text": [
      "reshaping prediction...\n",
      "(240, 240, 155)\n",
      "saving prediction to nifti file...\n"
     ]
    },
    {
     "name": "stderr",
     "output_type": "stream",
     "text": [
      "5it [01:01, 12.12s/it]"
     ]
    },
    {
     "name": "stdout",
     "output_type": "stream",
     "text": [
      "reshaping prediction...\n",
      "(240, 240, 155)\n",
      "saving prediction to nifti file...\n"
     ]
    },
    {
     "name": "stderr",
     "output_type": "stream",
     "text": [
      "6it [01:12, 12.01s/it]"
     ]
    },
    {
     "name": "stdout",
     "output_type": "stream",
     "text": [
      "reshaping prediction...\n",
      "(240, 240, 155)\n",
      "saving prediction to nifti file...\n"
     ]
    },
    {
     "name": "stderr",
     "output_type": "stream",
     "text": [
      "7it [01:27, 12.76s/it]"
     ]
    },
    {
     "name": "stdout",
     "output_type": "stream",
     "text": [
      "reshaping prediction...\n",
      "(240, 240, 155)\n",
      "saving prediction to nifti file...\n"
     ]
    },
    {
     "name": "stderr",
     "output_type": "stream",
     "text": [
      "8it [01:39, 12.59s/it]"
     ]
    },
    {
     "name": "stdout",
     "output_type": "stream",
     "text": [
      "reshaping prediction...\n",
      "(240, 240, 155)\n",
      "saving prediction to nifti file...\n"
     ]
    },
    {
     "name": "stderr",
     "output_type": "stream",
     "text": [
      "9it [01:51, 12.43s/it]"
     ]
    },
    {
     "name": "stdout",
     "output_type": "stream",
     "text": [
      "reshaping prediction...\n",
      "(240, 240, 155)\n",
      "saving prediction to nifti file...\n"
     ]
    },
    {
     "name": "stderr",
     "output_type": "stream",
     "text": [
      "10it [02:03, 12.31s/it]"
     ]
    },
    {
     "name": "stdout",
     "output_type": "stream",
     "text": [
      "reshaping prediction...\n",
      "(240, 240, 155)\n",
      "saving prediction to nifti file...\n"
     ]
    },
    {
     "name": "stderr",
     "output_type": "stream",
     "text": [
      "11it [02:15, 12.25s/it]"
     ]
    },
    {
     "name": "stdout",
     "output_type": "stream",
     "text": [
      "reshaping prediction...\n",
      "(240, 240, 155)\n",
      "saving prediction to nifti file...\n"
     ]
    },
    {
     "name": "stderr",
     "output_type": "stream",
     "text": [
      "12it [02:26, 11.91s/it]"
     ]
    },
    {
     "name": "stdout",
     "output_type": "stream",
     "text": [
      "reshaping prediction...\n",
      "(240, 240, 155)\n",
      "saving prediction to nifti file...\n"
     ]
    },
    {
     "name": "stderr",
     "output_type": "stream",
     "text": [
      "13it [02:37, 11.57s/it]"
     ]
    },
    {
     "name": "stdout",
     "output_type": "stream",
     "text": [
      "reshaping prediction...\n",
      "(240, 240, 155)\n",
      "saving prediction to nifti file...\n"
     ]
    },
    {
     "name": "stderr",
     "output_type": "stream",
     "text": [
      "14it [02:49, 11.51s/it]"
     ]
    },
    {
     "name": "stdout",
     "output_type": "stream",
     "text": [
      "reshaping prediction...\n",
      "(240, 240, 155)\n",
      "saving prediction to nifti file...\n"
     ]
    },
    {
     "name": "stderr",
     "output_type": "stream",
     "text": [
      "15it [02:59, 11.23s/it]"
     ]
    },
    {
     "name": "stdout",
     "output_type": "stream",
     "text": [
      "reshaping prediction...\n",
      "ET being converted to TC\n",
      "(240, 240, 155)\n",
      "saving prediction to nifti file...\n"
     ]
    },
    {
     "name": "stderr",
     "output_type": "stream",
     "text": [
      "16it [03:11, 11.37s/it]"
     ]
    },
    {
     "name": "stdout",
     "output_type": "stream",
     "text": [
      "reshaping prediction...\n",
      "(240, 240, 155)\n",
      "saving prediction to nifti file...\n"
     ]
    },
    {
     "name": "stderr",
     "output_type": "stream",
     "text": [
      "17it [03:22, 11.19s/it]"
     ]
    },
    {
     "name": "stdout",
     "output_type": "stream",
     "text": [
      "reshaping prediction...\n",
      "(240, 240, 155)\n",
      "saving prediction to nifti file...\n"
     ]
    },
    {
     "name": "stderr",
     "output_type": "stream",
     "text": [
      "18it [03:34, 11.52s/it]"
     ]
    },
    {
     "name": "stdout",
     "output_type": "stream",
     "text": [
      "reshaping prediction...\n",
      "(240, 240, 155)\n",
      "saving prediction to nifti file...\n"
     ]
    },
    {
     "name": "stderr",
     "output_type": "stream",
     "text": [
      "19it [03:46, 11.72s/it]"
     ]
    },
    {
     "name": "stdout",
     "output_type": "stream",
     "text": [
      "reshaping prediction...\n",
      "(240, 240, 155)\n",
      "saving prediction to nifti file...\n"
     ]
    },
    {
     "name": "stderr",
     "output_type": "stream",
     "text": [
      "20it [03:59, 12.03s/it]"
     ]
    },
    {
     "name": "stdout",
     "output_type": "stream",
     "text": [
      "reshaping prediction...\n",
      "(240, 240, 155)\n",
      "saving prediction to nifti file...\n"
     ]
    },
    {
     "name": "stderr",
     "output_type": "stream",
     "text": [
      "21it [04:11, 12.06s/it]"
     ]
    },
    {
     "name": "stdout",
     "output_type": "stream",
     "text": [
      "reshaping prediction...\n",
      "(240, 240, 155)\n",
      "saving prediction to nifti file...\n"
     ]
    },
    {
     "name": "stderr",
     "output_type": "stream",
     "text": [
      "22it [04:23, 12.09s/it]"
     ]
    },
    {
     "name": "stdout",
     "output_type": "stream",
     "text": [
      "reshaping prediction...\n",
      "(240, 240, 155)\n",
      "saving prediction to nifti file...\n"
     ]
    },
    {
     "name": "stderr",
     "output_type": "stream",
     "text": [
      "23it [04:36, 12.34s/it]"
     ]
    },
    {
     "name": "stdout",
     "output_type": "stream",
     "text": [
      "reshaping prediction...\n",
      "(240, 240, 155)\n",
      "saving prediction to nifti file...\n"
     ]
    },
    {
     "name": "stderr",
     "output_type": "stream",
     "text": [
      "24it [04:49, 12.41s/it]"
     ]
    },
    {
     "name": "stdout",
     "output_type": "stream",
     "text": [
      "reshaping prediction...\n",
      "(240, 240, 155)\n",
      "saving prediction to nifti file...\n"
     ]
    },
    {
     "name": "stderr",
     "output_type": "stream",
     "text": [
      "25it [05:01, 12.33s/it]"
     ]
    },
    {
     "name": "stdout",
     "output_type": "stream",
     "text": [
      "reshaping prediction...\n",
      "(240, 240, 155)\n",
      "saving prediction to nifti file...\n"
     ]
    },
    {
     "name": "stderr",
     "output_type": "stream",
     "text": [
      "26it [05:12, 12.11s/it]"
     ]
    },
    {
     "name": "stdout",
     "output_type": "stream",
     "text": [
      "reshaping prediction...\n",
      "(240, 240, 155)\n",
      "saving prediction to nifti file...\n"
     ]
    },
    {
     "name": "stderr",
     "output_type": "stream",
     "text": [
      "27it [05:24, 12.06s/it]"
     ]
    },
    {
     "name": "stdout",
     "output_type": "stream",
     "text": [
      "reshaping prediction...\n",
      "ET being converted to TC\n",
      "(240, 240, 155)\n",
      "saving prediction to nifti file...\n"
     ]
    },
    {
     "name": "stderr",
     "output_type": "stream",
     "text": [
      "28it [05:36, 11.97s/it]"
     ]
    },
    {
     "name": "stdout",
     "output_type": "stream",
     "text": [
      "reshaping prediction...\n",
      "(240, 240, 155)\n",
      "saving prediction to nifti file...\n"
     ]
    },
    {
     "name": "stderr",
     "output_type": "stream",
     "text": [
      "29it [05:46, 11.30s/it]"
     ]
    },
    {
     "name": "stdout",
     "output_type": "stream",
     "text": [
      "reshaping prediction...\n",
      "(240, 240, 155)\n",
      "saving prediction to nifti file...\n"
     ]
    },
    {
     "name": "stderr",
     "output_type": "stream",
     "text": [
      "30it [05:58, 11.52s/it]"
     ]
    },
    {
     "name": "stdout",
     "output_type": "stream",
     "text": [
      "reshaping prediction...\n",
      "(240, 240, 155)\n",
      "saving prediction to nifti file...\n"
     ]
    },
    {
     "name": "stderr",
     "output_type": "stream",
     "text": [
      "31it [06:10, 11.80s/it]"
     ]
    },
    {
     "name": "stdout",
     "output_type": "stream",
     "text": [
      "reshaping prediction...\n",
      "(240, 240, 155)\n",
      "saving prediction to nifti file...\n"
     ]
    },
    {
     "name": "stderr",
     "output_type": "stream",
     "text": [
      "32it [06:23, 12.00s/it]"
     ]
    },
    {
     "name": "stdout",
     "output_type": "stream",
     "text": [
      "reshaping prediction...\n",
      "(240, 240, 155)\n",
      "saving prediction to nifti file...\n"
     ]
    },
    {
     "name": "stderr",
     "output_type": "stream",
     "text": [
      "33it [06:35, 12.08s/it]"
     ]
    },
    {
     "name": "stdout",
     "output_type": "stream",
     "text": [
      "reshaping prediction...\n",
      "(240, 240, 155)\n",
      "saving prediction to nifti file...\n"
     ]
    },
    {
     "name": "stderr",
     "output_type": "stream",
     "text": [
      "34it [06:47, 12.19s/it]"
     ]
    },
    {
     "name": "stdout",
     "output_type": "stream",
     "text": [
      "reshaping prediction...\n",
      "(240, 240, 155)\n",
      "saving prediction to nifti file...\n"
     ]
    },
    {
     "name": "stderr",
     "output_type": "stream",
     "text": [
      "35it [06:58, 11.78s/it]"
     ]
    },
    {
     "name": "stdout",
     "output_type": "stream",
     "text": [
      "reshaping prediction...\n",
      "(240, 240, 155)\n",
      "saving prediction to nifti file...\n"
     ]
    },
    {
     "name": "stderr",
     "output_type": "stream",
     "text": [
      "36it [07:11, 12.06s/it]"
     ]
    },
    {
     "name": "stdout",
     "output_type": "stream",
     "text": [
      "reshaping prediction...\n",
      "(240, 240, 155)\n",
      "saving prediction to nifti file...\n"
     ]
    },
    {
     "name": "stderr",
     "output_type": "stream",
     "text": [
      "37it [07:23, 12.11s/it]"
     ]
    },
    {
     "name": "stdout",
     "output_type": "stream",
     "text": [
      "reshaping prediction...\n",
      "(240, 240, 155)\n",
      "saving prediction to nifti file...\n"
     ]
    },
    {
     "name": "stderr",
     "output_type": "stream",
     "text": [
      "38it [07:35, 12.09s/it]"
     ]
    },
    {
     "name": "stdout",
     "output_type": "stream",
     "text": [
      "reshaping prediction...\n",
      "(240, 240, 155)\n",
      "saving prediction to nifti file...\n"
     ]
    },
    {
     "name": "stderr",
     "output_type": "stream",
     "text": [
      "39it [07:47, 12.07s/it]"
     ]
    },
    {
     "name": "stdout",
     "output_type": "stream",
     "text": [
      "reshaping prediction...\n",
      "(240, 240, 155)\n",
      "saving prediction to nifti file...\n"
     ]
    },
    {
     "name": "stderr",
     "output_type": "stream",
     "text": [
      "40it [07:58, 11.65s/it]"
     ]
    },
    {
     "name": "stdout",
     "output_type": "stream",
     "text": [
      "reshaping prediction...\n",
      "(240, 240, 155)\n",
      "saving prediction to nifti file...\n"
     ]
    },
    {
     "name": "stderr",
     "output_type": "stream",
     "text": [
      "41it [08:10, 11.64s/it]"
     ]
    },
    {
     "name": "stdout",
     "output_type": "stream",
     "text": [
      "reshaping prediction...\n",
      "(240, 240, 155)\n",
      "saving prediction to nifti file...\n"
     ]
    },
    {
     "name": "stderr",
     "output_type": "stream",
     "text": [
      "42it [08:20, 11.15s/it]"
     ]
    },
    {
     "name": "stdout",
     "output_type": "stream",
     "text": [
      "reshaping prediction...\n",
      "(240, 240, 155)\n",
      "saving prediction to nifti file...\n"
     ]
    },
    {
     "name": "stderr",
     "output_type": "stream",
     "text": [
      "43it [08:32, 11.39s/it]"
     ]
    },
    {
     "name": "stdout",
     "output_type": "stream",
     "text": [
      "reshaping prediction...\n",
      "(240, 240, 155)\n",
      "saving prediction to nifti file...\n"
     ]
    },
    {
     "name": "stderr",
     "output_type": "stream",
     "text": [
      "44it [08:43, 11.53s/it]"
     ]
    },
    {
     "name": "stdout",
     "output_type": "stream",
     "text": [
      "reshaping prediction...\n",
      "(240, 240, 155)\n",
      "saving prediction to nifti file...\n"
     ]
    },
    {
     "name": "stderr",
     "output_type": "stream",
     "text": [
      "45it [08:54, 11.27s/it]"
     ]
    },
    {
     "name": "stdout",
     "output_type": "stream",
     "text": [
      "reshaping prediction...\n",
      "(240, 240, 155)\n",
      "saving prediction to nifti file...\n"
     ]
    },
    {
     "name": "stderr",
     "output_type": "stream",
     "text": [
      "46it [09:05, 11.24s/it]"
     ]
    },
    {
     "name": "stdout",
     "output_type": "stream",
     "text": [
      "reshaping prediction...\n",
      "(240, 240, 155)\n",
      "saving prediction to nifti file...\n"
     ]
    },
    {
     "name": "stderr",
     "output_type": "stream",
     "text": [
      "47it [09:18, 11.79s/it]"
     ]
    },
    {
     "name": "stdout",
     "output_type": "stream",
     "text": [
      "reshaping prediction...\n",
      "(240, 240, 155)\n",
      "saving prediction to nifti file...\n"
     ]
    },
    {
     "name": "stderr",
     "output_type": "stream",
     "text": [
      "48it [09:30, 11.72s/it]"
     ]
    },
    {
     "name": "stdout",
     "output_type": "stream",
     "text": [
      "reshaping prediction...\n",
      "(240, 240, 155)\n",
      "saving prediction to nifti file...\n"
     ]
    },
    {
     "name": "stderr",
     "output_type": "stream",
     "text": [
      "49it [09:42, 11.98s/it]"
     ]
    },
    {
     "name": "stdout",
     "output_type": "stream",
     "text": [
      "reshaping prediction...\n",
      "(240, 240, 155)\n",
      "saving prediction to nifti file...\n"
     ]
    },
    {
     "name": "stderr",
     "output_type": "stream",
     "text": [
      "50it [09:54, 11.98s/it]"
     ]
    },
    {
     "name": "stdout",
     "output_type": "stream",
     "text": [
      "reshaping prediction...\n",
      "(240, 240, 155)\n",
      "saving prediction to nifti file...\n"
     ]
    },
    {
     "name": "stderr",
     "output_type": "stream",
     "text": [
      "51it [10:06, 11.90s/it]"
     ]
    },
    {
     "name": "stdout",
     "output_type": "stream",
     "text": [
      "reshaping prediction...\n",
      "(240, 240, 155)\n",
      "saving prediction to nifti file...\n"
     ]
    },
    {
     "name": "stderr",
     "output_type": "stream",
     "text": [
      "52it [10:17, 11.47s/it]"
     ]
    },
    {
     "name": "stdout",
     "output_type": "stream",
     "text": [
      "reshaping prediction...\n",
      "ET being converted to TC\n",
      "(240, 240, 155)\n",
      "saving prediction to nifti file...\n"
     ]
    },
    {
     "name": "stderr",
     "output_type": "stream",
     "text": [
      "53it [10:28, 11.54s/it]"
     ]
    },
    {
     "name": "stdout",
     "output_type": "stream",
     "text": [
      "reshaping prediction...\n",
      "(240, 240, 155)\n",
      "saving prediction to nifti file...\n"
     ]
    },
    {
     "name": "stderr",
     "output_type": "stream",
     "text": [
      "54it [10:40, 11.54s/it]"
     ]
    },
    {
     "name": "stdout",
     "output_type": "stream",
     "text": [
      "reshaping prediction...\n",
      "(240, 240, 155)\n",
      "saving prediction to nifti file...\n"
     ]
    },
    {
     "name": "stderr",
     "output_type": "stream",
     "text": [
      "55it [10:51, 11.51s/it]"
     ]
    },
    {
     "name": "stdout",
     "output_type": "stream",
     "text": [
      "reshaping prediction...\n",
      "(240, 240, 155)\n",
      "saving prediction to nifti file...\n"
     ]
    },
    {
     "name": "stderr",
     "output_type": "stream",
     "text": [
      "56it [11:04, 11.91s/it]"
     ]
    },
    {
     "name": "stdout",
     "output_type": "stream",
     "text": [
      "reshaping prediction...\n",
      "(240, 240, 155)\n",
      "saving prediction to nifti file...\n"
     ]
    },
    {
     "name": "stderr",
     "output_type": "stream",
     "text": [
      "57it [11:17, 12.16s/it]"
     ]
    },
    {
     "name": "stdout",
     "output_type": "stream",
     "text": [
      "reshaping prediction...\n",
      "(240, 240, 155)\n",
      "saving prediction to nifti file...\n"
     ]
    },
    {
     "name": "stderr",
     "output_type": "stream",
     "text": [
      "58it [11:29, 12.05s/it]"
     ]
    },
    {
     "name": "stdout",
     "output_type": "stream",
     "text": [
      "reshaping prediction...\n",
      "(240, 240, 155)\n",
      "saving prediction to nifti file...\n"
     ]
    },
    {
     "name": "stderr",
     "output_type": "stream",
     "text": [
      "59it [11:40, 11.94s/it]"
     ]
    },
    {
     "name": "stdout",
     "output_type": "stream",
     "text": [
      "reshaping prediction...\n",
      "(240, 240, 155)\n",
      "saving prediction to nifti file...\n"
     ]
    },
    {
     "name": "stderr",
     "output_type": "stream",
     "text": [
      "60it [11:52, 11.96s/it]"
     ]
    },
    {
     "name": "stdout",
     "output_type": "stream",
     "text": [
      "reshaping prediction...\n",
      "(240, 240, 155)\n",
      "saving prediction to nifti file...\n"
     ]
    },
    {
     "name": "stderr",
     "output_type": "stream",
     "text": [
      "61it [12:04, 11.94s/it]"
     ]
    },
    {
     "name": "stdout",
     "output_type": "stream",
     "text": [
      "reshaping prediction...\n",
      "ET being converted to TC\n",
      "(240, 240, 155)\n",
      "saving prediction to nifti file...\n"
     ]
    },
    {
     "name": "stderr",
     "output_type": "stream",
     "text": [
      "62it [12:17, 12.22s/it]"
     ]
    },
    {
     "name": "stdout",
     "output_type": "stream",
     "text": [
      "reshaping prediction...\n",
      "(240, 240, 155)\n",
      "saving prediction to nifti file...\n"
     ]
    },
    {
     "name": "stderr",
     "output_type": "stream",
     "text": [
      "63it [12:28, 11.91s/it]"
     ]
    },
    {
     "name": "stdout",
     "output_type": "stream",
     "text": [
      "reshaping prediction...\n",
      "(240, 240, 155)\n",
      "saving prediction to nifti file...\n"
     ]
    },
    {
     "name": "stderr",
     "output_type": "stream",
     "text": [
      "64it [12:41, 12.04s/it]"
     ]
    },
    {
     "name": "stdout",
     "output_type": "stream",
     "text": [
      "reshaping prediction...\n",
      "(240, 240, 155)\n",
      "saving prediction to nifti file...\n"
     ]
    },
    {
     "name": "stderr",
     "output_type": "stream",
     "text": [
      "65it [12:52, 11.69s/it]"
     ]
    },
    {
     "name": "stdout",
     "output_type": "stream",
     "text": [
      "reshaping prediction...\n",
      "(240, 240, 155)\n",
      "saving prediction to nifti file...\n"
     ]
    },
    {
     "name": "stderr",
     "output_type": "stream",
     "text": [
      "66it [13:03, 11.57s/it]"
     ]
    },
    {
     "name": "stdout",
     "output_type": "stream",
     "text": [
      "reshaping prediction...\n",
      "(240, 240, 155)\n",
      "saving prediction to nifti file...\n"
     ]
    },
    {
     "name": "stderr",
     "output_type": "stream",
     "text": [
      "67it [13:14, 11.50s/it]"
     ]
    },
    {
     "name": "stdout",
     "output_type": "stream",
     "text": [
      "reshaping prediction...\n",
      "(240, 240, 155)\n",
      "saving prediction to nifti file...\n"
     ]
    },
    {
     "name": "stderr",
     "output_type": "stream",
     "text": [
      "68it [13:25, 11.23s/it]"
     ]
    },
    {
     "name": "stdout",
     "output_type": "stream",
     "text": [
      "reshaping prediction...\n",
      "(240, 240, 155)\n",
      "saving prediction to nifti file...\n"
     ]
    },
    {
     "name": "stderr",
     "output_type": "stream",
     "text": [
      "69it [13:38, 11.71s/it]"
     ]
    },
    {
     "name": "stdout",
     "output_type": "stream",
     "text": [
      "reshaping prediction...\n",
      "(240, 240, 155)\n",
      "saving prediction to nifti file...\n"
     ]
    },
    {
     "name": "stderr",
     "output_type": "stream",
     "text": [
      "70it [13:50, 11.96s/it]"
     ]
    },
    {
     "name": "stdout",
     "output_type": "stream",
     "text": [
      "reshaping prediction...\n",
      "(240, 240, 155)\n",
      "saving prediction to nifti file...\n"
     ]
    },
    {
     "name": "stderr",
     "output_type": "stream",
     "text": [
      "71it [14:04, 12.46s/it]"
     ]
    },
    {
     "name": "stdout",
     "output_type": "stream",
     "text": [
      "reshaping prediction...\n",
      "ET being converted to TC\n",
      "(240, 240, 155)\n",
      "saving prediction to nifti file...\n"
     ]
    },
    {
     "name": "stderr",
     "output_type": "stream",
     "text": [
      "72it [14:17, 12.59s/it]"
     ]
    },
    {
     "name": "stdout",
     "output_type": "stream",
     "text": [
      "reshaping prediction...\n",
      "(240, 240, 155)\n",
      "saving prediction to nifti file...\n"
     ]
    },
    {
     "name": "stderr",
     "output_type": "stream",
     "text": [
      "73it [14:29, 12.66s/it]"
     ]
    },
    {
     "name": "stdout",
     "output_type": "stream",
     "text": [
      "reshaping prediction...\n",
      "(240, 240, 155)\n",
      "saving prediction to nifti file...\n"
     ]
    },
    {
     "name": "stderr",
     "output_type": "stream",
     "text": [
      "74it [14:41, 12.17s/it]"
     ]
    },
    {
     "name": "stdout",
     "output_type": "stream",
     "text": [
      "reshaping prediction...\n",
      "(240, 240, 155)\n",
      "saving prediction to nifti file...\n"
     ]
    },
    {
     "name": "stderr",
     "output_type": "stream",
     "text": [
      "75it [14:52, 12.11s/it]"
     ]
    },
    {
     "name": "stdout",
     "output_type": "stream",
     "text": [
      "reshaping prediction...\n",
      "(240, 240, 155)\n",
      "saving prediction to nifti file...\n"
     ]
    },
    {
     "name": "stderr",
     "output_type": "stream",
     "text": [
      "76it [15:05, 12.23s/it]"
     ]
    },
    {
     "name": "stdout",
     "output_type": "stream",
     "text": [
      "reshaping prediction...\n",
      "(240, 240, 155)\n",
      "saving prediction to nifti file...\n"
     ]
    },
    {
     "name": "stderr",
     "output_type": "stream",
     "text": [
      "77it [15:16, 12.00s/it]"
     ]
    },
    {
     "name": "stdout",
     "output_type": "stream",
     "text": [
      "reshaping prediction...\n",
      "(240, 240, 155)\n",
      "saving prediction to nifti file...\n"
     ]
    },
    {
     "name": "stderr",
     "output_type": "stream",
     "text": [
      "78it [15:28, 11.99s/it]"
     ]
    },
    {
     "name": "stdout",
     "output_type": "stream",
     "text": [
      "reshaping prediction...\n",
      "(240, 240, 155)\n",
      "saving prediction to nifti file...\n"
     ]
    },
    {
     "name": "stderr",
     "output_type": "stream",
     "text": [
      "79it [15:40, 12.01s/it]"
     ]
    },
    {
     "name": "stdout",
     "output_type": "stream",
     "text": [
      "reshaping prediction...\n",
      "(240, 240, 155)\n",
      "saving prediction to nifti file...\n"
     ]
    },
    {
     "name": "stderr",
     "output_type": "stream",
     "text": [
      "80it [15:54, 12.35s/it]"
     ]
    },
    {
     "name": "stdout",
     "output_type": "stream",
     "text": [
      "reshaping prediction...\n",
      "(240, 240, 155)\n",
      "saving prediction to nifti file...\n"
     ]
    },
    {
     "name": "stderr",
     "output_type": "stream",
     "text": [
      "81it [16:07, 12.51s/it]"
     ]
    },
    {
     "name": "stdout",
     "output_type": "stream",
     "text": [
      "reshaping prediction...\n",
      "(240, 240, 155)\n",
      "saving prediction to nifti file...\n"
     ]
    },
    {
     "name": "stderr",
     "output_type": "stream",
     "text": [
      "82it [16:19, 12.62s/it]"
     ]
    },
    {
     "name": "stdout",
     "output_type": "stream",
     "text": [
      "reshaping prediction...\n",
      "(240, 240, 155)\n",
      "saving prediction to nifti file...\n"
     ]
    },
    {
     "name": "stderr",
     "output_type": "stream",
     "text": [
      "83it [16:31, 12.38s/it]"
     ]
    },
    {
     "name": "stdout",
     "output_type": "stream",
     "text": [
      "reshaping prediction...\n",
      "(240, 240, 155)\n",
      "saving prediction to nifti file...\n"
     ]
    },
    {
     "name": "stderr",
     "output_type": "stream",
     "text": [
      "84it [16:41, 11.73s/it]"
     ]
    },
    {
     "name": "stdout",
     "output_type": "stream",
     "text": [
      "reshaping prediction...\n",
      "(240, 240, 155)\n",
      "saving prediction to nifti file...\n"
     ]
    },
    {
     "name": "stderr",
     "output_type": "stream",
     "text": [
      "85it [16:52, 11.47s/it]"
     ]
    },
    {
     "name": "stdout",
     "output_type": "stream",
     "text": [
      "reshaping prediction...\n",
      "(240, 240, 155)\n",
      "saving prediction to nifti file...\n"
     ]
    },
    {
     "name": "stderr",
     "output_type": "stream",
     "text": [
      "86it [17:05, 11.76s/it]"
     ]
    },
    {
     "name": "stdout",
     "output_type": "stream",
     "text": [
      "reshaping prediction...\n",
      "(240, 240, 155)\n",
      "saving prediction to nifti file...\n"
     ]
    },
    {
     "name": "stderr",
     "output_type": "stream",
     "text": [
      "87it [17:16, 11.54s/it]"
     ]
    },
    {
     "name": "stdout",
     "output_type": "stream",
     "text": [
      "reshaping prediction...\n",
      "(240, 240, 155)\n",
      "saving prediction to nifti file...\n"
     ]
    },
    {
     "name": "stderr",
     "output_type": "stream",
     "text": [
      "88it [17:28, 11.69s/it]"
     ]
    },
    {
     "name": "stdout",
     "output_type": "stream",
     "text": [
      "reshaping prediction...\n",
      "(240, 240, 155)\n",
      "saving prediction to nifti file...\n"
     ]
    },
    {
     "name": "stderr",
     "output_type": "stream",
     "text": [
      "89it [17:39, 11.57s/it]"
     ]
    },
    {
     "name": "stdout",
     "output_type": "stream",
     "text": [
      "reshaping prediction...\n",
      "(240, 240, 155)\n",
      "saving prediction to nifti file...\n"
     ]
    },
    {
     "name": "stderr",
     "output_type": "stream",
     "text": [
      "90it [17:52, 11.90s/it]"
     ]
    },
    {
     "name": "stdout",
     "output_type": "stream",
     "text": [
      "reshaping prediction...\n",
      "(240, 240, 155)\n",
      "saving prediction to nifti file...\n"
     ]
    },
    {
     "name": "stderr",
     "output_type": "stream",
     "text": [
      "91it [18:04, 11.98s/it]"
     ]
    },
    {
     "name": "stdout",
     "output_type": "stream",
     "text": [
      "reshaping prediction...\n",
      "(240, 240, 155)\n",
      "saving prediction to nifti file...\n"
     ]
    },
    {
     "name": "stderr",
     "output_type": "stream",
     "text": [
      "92it [18:16, 12.10s/it]"
     ]
    },
    {
     "name": "stdout",
     "output_type": "stream",
     "text": [
      "reshaping prediction...\n",
      "(240, 240, 155)\n",
      "saving prediction to nifti file...\n"
     ]
    },
    {
     "name": "stderr",
     "output_type": "stream",
     "text": [
      "93it [18:28, 12.09s/it]"
     ]
    },
    {
     "name": "stdout",
     "output_type": "stream",
     "text": [
      "reshaping prediction...\n",
      "(240, 240, 155)\n",
      "saving prediction to nifti file...\n"
     ]
    },
    {
     "name": "stderr",
     "output_type": "stream",
     "text": [
      "94it [18:39, 11.60s/it]"
     ]
    },
    {
     "name": "stdout",
     "output_type": "stream",
     "text": [
      "reshaping prediction...\n",
      "(240, 240, 155)\n",
      "saving prediction to nifti file...\n"
     ]
    },
    {
     "name": "stderr",
     "output_type": "stream",
     "text": [
      "95it [18:52, 12.06s/it]"
     ]
    },
    {
     "name": "stdout",
     "output_type": "stream",
     "text": [
      "reshaping prediction...\n",
      "(240, 240, 155)\n",
      "saving prediction to nifti file...\n"
     ]
    },
    {
     "name": "stderr",
     "output_type": "stream",
     "text": [
      "96it [19:03, 11.82s/it]"
     ]
    },
    {
     "name": "stdout",
     "output_type": "stream",
     "text": [
      "reshaping prediction...\n",
      "(240, 240, 155)\n",
      "saving prediction to nifti file...\n"
     ]
    },
    {
     "name": "stderr",
     "output_type": "stream",
     "text": [
      "97it [19:15, 11.87s/it]"
     ]
    },
    {
     "name": "stdout",
     "output_type": "stream",
     "text": [
      "reshaping prediction...\n",
      "(240, 240, 155)\n",
      "saving prediction to nifti file...\n"
     ]
    },
    {
     "name": "stderr",
     "output_type": "stream",
     "text": [
      "98it [19:30, 12.70s/it]"
     ]
    },
    {
     "name": "stdout",
     "output_type": "stream",
     "text": [
      "reshaping prediction...\n",
      "(240, 240, 155)\n",
      "saving prediction to nifti file...\n"
     ]
    },
    {
     "name": "stderr",
     "output_type": "stream",
     "text": [
      "99it [19:41, 12.35s/it]"
     ]
    },
    {
     "name": "stdout",
     "output_type": "stream",
     "text": [
      "reshaping prediction...\n",
      "(240, 240, 155)\n",
      "saving prediction to nifti file...\n"
     ]
    },
    {
     "name": "stderr",
     "output_type": "stream",
     "text": [
      "100it [19:53, 12.12s/it]"
     ]
    },
    {
     "name": "stdout",
     "output_type": "stream",
     "text": [
      "reshaping prediction...\n",
      "(240, 240, 155)\n",
      "saving prediction to nifti file...\n"
     ]
    },
    {
     "name": "stderr",
     "output_type": "stream",
     "text": [
      "101it [20:05, 12.24s/it]"
     ]
    },
    {
     "name": "stdout",
     "output_type": "stream",
     "text": [
      "reshaping prediction...\n",
      "(240, 240, 155)\n",
      "saving prediction to nifti file...\n"
     ]
    },
    {
     "name": "stderr",
     "output_type": "stream",
     "text": [
      "102it [20:15, 11.49s/it]"
     ]
    },
    {
     "name": "stdout",
     "output_type": "stream",
     "text": [
      "reshaping prediction...\n",
      "(240, 240, 155)\n",
      "saving prediction to nifti file...\n"
     ]
    },
    {
     "name": "stderr",
     "output_type": "stream",
     "text": [
      "103it [20:28, 12.00s/it]"
     ]
    },
    {
     "name": "stdout",
     "output_type": "stream",
     "text": [
      "reshaping prediction...\n",
      "(240, 240, 155)\n",
      "saving prediction to nifti file...\n"
     ]
    },
    {
     "name": "stderr",
     "output_type": "stream",
     "text": [
      "104it [20:41, 12.06s/it]"
     ]
    },
    {
     "name": "stdout",
     "output_type": "stream",
     "text": [
      "reshaping prediction...\n",
      "(240, 240, 155)\n",
      "saving prediction to nifti file...\n"
     ]
    },
    {
     "name": "stderr",
     "output_type": "stream",
     "text": [
      "105it [20:53, 12.03s/it]"
     ]
    },
    {
     "name": "stdout",
     "output_type": "stream",
     "text": [
      "reshaping prediction...\n",
      "(240, 240, 155)\n",
      "saving prediction to nifti file...\n"
     ]
    },
    {
     "name": "stderr",
     "output_type": "stream",
     "text": [
      "106it [21:03, 11.67s/it]"
     ]
    },
    {
     "name": "stdout",
     "output_type": "stream",
     "text": [
      "reshaping prediction...\n",
      "(240, 240, 155)\n",
      "saving prediction to nifti file...\n"
     ]
    },
    {
     "name": "stderr",
     "output_type": "stream",
     "text": [
      "107it [21:14, 11.48s/it]"
     ]
    },
    {
     "name": "stdout",
     "output_type": "stream",
     "text": [
      "reshaping prediction...\n",
      "(240, 240, 155)\n",
      "saving prediction to nifti file...\n"
     ]
    },
    {
     "name": "stderr",
     "output_type": "stream",
     "text": [
      "108it [21:24, 11.01s/it]"
     ]
    },
    {
     "name": "stdout",
     "output_type": "stream",
     "text": [
      "reshaping prediction...\n",
      "(240, 240, 155)\n",
      "saving prediction to nifti file...\n"
     ]
    },
    {
     "name": "stderr",
     "output_type": "stream",
     "text": [
      "109it [21:35, 11.01s/it]"
     ]
    },
    {
     "name": "stdout",
     "output_type": "stream",
     "text": [
      "reshaping prediction...\n",
      "(240, 240, 155)\n",
      "saving prediction to nifti file...\n"
     ]
    },
    {
     "name": "stderr",
     "output_type": "stream",
     "text": [
      "110it [21:48, 11.45s/it]"
     ]
    },
    {
     "name": "stdout",
     "output_type": "stream",
     "text": [
      "reshaping prediction...\n",
      "(240, 240, 155)\n",
      "saving prediction to nifti file...\n"
     ]
    },
    {
     "name": "stderr",
     "output_type": "stream",
     "text": [
      "111it [21:59, 11.25s/it]"
     ]
    },
    {
     "name": "stdout",
     "output_type": "stream",
     "text": [
      "reshaping prediction...\n",
      "ET being converted to TC\n",
      "(240, 240, 155)\n",
      "saving prediction to nifti file...\n"
     ]
    },
    {
     "name": "stderr",
     "output_type": "stream",
     "text": [
      "112it [22:09, 11.08s/it]"
     ]
    },
    {
     "name": "stdout",
     "output_type": "stream",
     "text": [
      "reshaping prediction...\n",
      "(240, 240, 155)\n",
      "saving prediction to nifti file...\n"
     ]
    },
    {
     "name": "stderr",
     "output_type": "stream",
     "text": [
      "113it [22:22, 11.55s/it]"
     ]
    },
    {
     "name": "stdout",
     "output_type": "stream",
     "text": [
      "reshaping prediction...\n",
      "(240, 240, 155)\n",
      "saving prediction to nifti file...\n"
     ]
    },
    {
     "name": "stderr",
     "output_type": "stream",
     "text": [
      "114it [22:34, 11.82s/it]"
     ]
    },
    {
     "name": "stdout",
     "output_type": "stream",
     "text": [
      "reshaping prediction...\n",
      "(240, 240, 155)\n",
      "saving prediction to nifti file...\n"
     ]
    },
    {
     "name": "stderr",
     "output_type": "stream",
     "text": [
      "115it [22:49, 12.61s/it]"
     ]
    },
    {
     "name": "stdout",
     "output_type": "stream",
     "text": [
      "reshaping prediction...\n",
      "(240, 240, 155)\n",
      "saving prediction to nifti file...\n"
     ]
    },
    {
     "name": "stderr",
     "output_type": "stream",
     "text": [
      "116it [23:01, 12.55s/it]"
     ]
    },
    {
     "name": "stdout",
     "output_type": "stream",
     "text": [
      "reshaping prediction...\n",
      "(240, 240, 155)\n",
      "saving prediction to nifti file...\n"
     ]
    },
    {
     "name": "stderr",
     "output_type": "stream",
     "text": [
      "117it [23:13, 12.23s/it]"
     ]
    },
    {
     "name": "stdout",
     "output_type": "stream",
     "text": [
      "reshaping prediction...\n",
      "(240, 240, 155)\n",
      "saving prediction to nifti file...\n"
     ]
    },
    {
     "name": "stderr",
     "output_type": "stream",
     "text": [
      "118it [23:24, 11.96s/it]"
     ]
    },
    {
     "name": "stdout",
     "output_type": "stream",
     "text": [
      "reshaping prediction...\n",
      "(240, 240, 155)\n",
      "saving prediction to nifti file...\n"
     ]
    },
    {
     "name": "stderr",
     "output_type": "stream",
     "text": [
      "119it [23:35, 11.59s/it]"
     ]
    },
    {
     "name": "stdout",
     "output_type": "stream",
     "text": [
      "reshaping prediction...\n",
      "(240, 240, 155)\n",
      "saving prediction to nifti file...\n"
     ]
    },
    {
     "name": "stderr",
     "output_type": "stream",
     "text": [
      "120it [23:45, 11.28s/it]"
     ]
    },
    {
     "name": "stdout",
     "output_type": "stream",
     "text": [
      "reshaping prediction...\n",
      "(240, 240, 155)\n",
      "saving prediction to nifti file...\n"
     ]
    },
    {
     "name": "stderr",
     "output_type": "stream",
     "text": [
      "121it [23:58, 11.64s/it]"
     ]
    },
    {
     "name": "stdout",
     "output_type": "stream",
     "text": [
      "reshaping prediction...\n",
      "(240, 240, 155)\n",
      "saving prediction to nifti file...\n"
     ]
    },
    {
     "name": "stderr",
     "output_type": "stream",
     "text": [
      "122it [24:08, 11.34s/it]"
     ]
    },
    {
     "name": "stdout",
     "output_type": "stream",
     "text": [
      "reshaping prediction...\n",
      "(240, 240, 155)\n",
      "saving prediction to nifti file...\n"
     ]
    },
    {
     "name": "stderr",
     "output_type": "stream",
     "text": [
      "123it [24:20, 11.31s/it]"
     ]
    },
    {
     "name": "stdout",
     "output_type": "stream",
     "text": [
      "reshaping prediction...\n",
      "(240, 240, 155)\n",
      "saving prediction to nifti file...\n"
     ]
    },
    {
     "name": "stderr",
     "output_type": "stream",
     "text": [
      "124it [24:32, 11.55s/it]"
     ]
    },
    {
     "name": "stdout",
     "output_type": "stream",
     "text": [
      "reshaping prediction...\n",
      "(240, 240, 155)\n",
      "saving prediction to nifti file...\n"
     ]
    },
    {
     "name": "stderr",
     "output_type": "stream",
     "text": [
      "125it [24:45, 11.95s/it]"
     ]
    },
    {
     "name": "stdout",
     "output_type": "stream",
     "text": [
      "reshaping prediction...\n",
      "(240, 240, 155)\n",
      "saving prediction to nifti file...\n"
     ]
    },
    {
     "name": "stderr",
     "output_type": "stream",
     "text": [
      "126it [24:56, 11.70s/it]"
     ]
    },
    {
     "name": "stdout",
     "output_type": "stream",
     "text": [
      "reshaping prediction...\n",
      "(240, 240, 155)\n",
      "saving prediction to nifti file...\n"
     ]
    },
    {
     "name": "stderr",
     "output_type": "stream",
     "text": [
      "127it [25:08, 11.89s/it]"
     ]
    },
    {
     "name": "stdout",
     "output_type": "stream",
     "text": [
      "reshaping prediction...\n",
      "(240, 240, 155)\n",
      "saving prediction to nifti file...\n"
     ]
    },
    {
     "name": "stderr",
     "output_type": "stream",
     "text": [
      "128it [25:19, 11.71s/it]"
     ]
    },
    {
     "name": "stdout",
     "output_type": "stream",
     "text": [
      "reshaping prediction...\n",
      "(240, 240, 155)\n",
      "saving prediction to nifti file...\n"
     ]
    },
    {
     "name": "stderr",
     "output_type": "stream",
     "text": [
      "129it [25:32, 12.05s/it]"
     ]
    },
    {
     "name": "stdout",
     "output_type": "stream",
     "text": [
      "reshaping prediction...\n",
      "(240, 240, 155)\n",
      "saving prediction to nifti file...\n"
     ]
    },
    {
     "name": "stderr",
     "output_type": "stream",
     "text": [
      "130it [25:45, 12.31s/it]"
     ]
    },
    {
     "name": "stdout",
     "output_type": "stream",
     "text": [
      "reshaping prediction...\n",
      "(240, 240, 155)\n",
      "saving prediction to nifti file...\n"
     ]
    },
    {
     "name": "stderr",
     "output_type": "stream",
     "text": [
      "131it [25:58, 12.43s/it]"
     ]
    },
    {
     "name": "stdout",
     "output_type": "stream",
     "text": [
      "reshaping prediction...\n",
      "(240, 240, 155)\n",
      "saving prediction to nifti file...\n"
     ]
    },
    {
     "name": "stderr",
     "output_type": "stream",
     "text": [
      "132it [26:10, 12.44s/it]"
     ]
    },
    {
     "name": "stdout",
     "output_type": "stream",
     "text": [
      "reshaping prediction...\n",
      "(240, 240, 155)\n",
      "saving prediction to nifti file...\n"
     ]
    },
    {
     "name": "stderr",
     "output_type": "stream",
     "text": [
      "133it [26:22, 12.06s/it]"
     ]
    },
    {
     "name": "stdout",
     "output_type": "stream",
     "text": [
      "reshaping prediction...\n",
      "(240, 240, 155)\n",
      "saving prediction to nifti file...\n"
     ]
    },
    {
     "name": "stderr",
     "output_type": "stream",
     "text": [
      "134it [26:33, 11.80s/it]"
     ]
    },
    {
     "name": "stdout",
     "output_type": "stream",
     "text": [
      "reshaping prediction...\n",
      "(240, 240, 155)\n",
      "saving prediction to nifti file...\n"
     ]
    },
    {
     "name": "stderr",
     "output_type": "stream",
     "text": [
      "135it [26:44, 11.52s/it]"
     ]
    },
    {
     "name": "stdout",
     "output_type": "stream",
     "text": [
      "reshaping prediction...\n",
      "(240, 240, 155)\n",
      "saving prediction to nifti file...\n"
     ]
    },
    {
     "name": "stderr",
     "output_type": "stream",
     "text": [
      "136it [26:55, 11.55s/it]"
     ]
    },
    {
     "name": "stdout",
     "output_type": "stream",
     "text": [
      "reshaping prediction...\n",
      "(240, 240, 155)\n",
      "saving prediction to nifti file...\n"
     ]
    },
    {
     "name": "stderr",
     "output_type": "stream",
     "text": [
      "137it [27:08, 11.91s/it]"
     ]
    },
    {
     "name": "stdout",
     "output_type": "stream",
     "text": [
      "reshaping prediction...\n",
      "(240, 240, 155)\n",
      "saving prediction to nifti file...\n"
     ]
    },
    {
     "name": "stderr",
     "output_type": "stream",
     "text": [
      "138it [27:20, 11.91s/it]"
     ]
    },
    {
     "name": "stdout",
     "output_type": "stream",
     "text": [
      "reshaping prediction...\n",
      "(240, 240, 155)\n",
      "saving prediction to nifti file...\n"
     ]
    },
    {
     "name": "stderr",
     "output_type": "stream",
     "text": [
      "139it [27:32, 11.86s/it]"
     ]
    },
    {
     "name": "stdout",
     "output_type": "stream",
     "text": [
      "reshaping prediction...\n",
      "(240, 240, 155)\n",
      "saving prediction to nifti file...\n"
     ]
    },
    {
     "name": "stderr",
     "output_type": "stream",
     "text": [
      "140it [27:45, 12.40s/it]"
     ]
    },
    {
     "name": "stdout",
     "output_type": "stream",
     "text": [
      "reshaping prediction...\n",
      "(240, 240, 155)\n",
      "saving prediction to nifti file...\n"
     ]
    },
    {
     "name": "stderr",
     "output_type": "stream",
     "text": [
      "141it [27:58, 12.36s/it]"
     ]
    },
    {
     "name": "stdout",
     "output_type": "stream",
     "text": [
      "reshaping prediction...\n",
      "(240, 240, 155)\n",
      "saving prediction to nifti file...\n"
     ]
    },
    {
     "name": "stderr",
     "output_type": "stream",
     "text": [
      "142it [28:09, 12.14s/it]"
     ]
    },
    {
     "name": "stdout",
     "output_type": "stream",
     "text": [
      "reshaping prediction...\n",
      "(240, 240, 155)\n",
      "saving prediction to nifti file...\n"
     ]
    },
    {
     "name": "stderr",
     "output_type": "stream",
     "text": [
      "143it [28:22, 12.20s/it]"
     ]
    },
    {
     "name": "stdout",
     "output_type": "stream",
     "text": [
      "reshaping prediction...\n",
      "(240, 240, 155)\n",
      "saving prediction to nifti file...\n"
     ]
    },
    {
     "name": "stderr",
     "output_type": "stream",
     "text": [
      "144it [28:34, 12.36s/it]"
     ]
    },
    {
     "name": "stdout",
     "output_type": "stream",
     "text": [
      "reshaping prediction...\n",
      "ET being converted to TC\n",
      "(240, 240, 155)\n",
      "saving prediction to nifti file...\n"
     ]
    },
    {
     "name": "stderr",
     "output_type": "stream",
     "text": [
      "145it [28:47, 12.52s/it]"
     ]
    },
    {
     "name": "stdout",
     "output_type": "stream",
     "text": [
      "reshaping prediction...\n",
      "(240, 240, 155)\n",
      "saving prediction to nifti file...\n"
     ]
    },
    {
     "name": "stderr",
     "output_type": "stream",
     "text": [
      "146it [28:58, 12.00s/it]"
     ]
    },
    {
     "name": "stdout",
     "output_type": "stream",
     "text": [
      "reshaping prediction...\n",
      "(240, 240, 155)\n",
      "saving prediction to nifti file...\n"
     ]
    },
    {
     "name": "stderr",
     "output_type": "stream",
     "text": [
      "147it [29:09, 11.73s/it]"
     ]
    },
    {
     "name": "stdout",
     "output_type": "stream",
     "text": [
      "reshaping prediction...\n",
      "(240, 240, 155)\n",
      "saving prediction to nifti file...\n"
     ]
    },
    {
     "name": "stderr",
     "output_type": "stream",
     "text": [
      "148it [29:20, 11.45s/it]"
     ]
    },
    {
     "name": "stdout",
     "output_type": "stream",
     "text": [
      "reshaping prediction...\n",
      "(240, 240, 155)\n",
      "saving prediction to nifti file...\n"
     ]
    },
    {
     "name": "stderr",
     "output_type": "stream",
     "text": [
      "149it [29:30, 11.03s/it]"
     ]
    },
    {
     "name": "stdout",
     "output_type": "stream",
     "text": [
      "reshaping prediction...\n",
      "(240, 240, 155)\n",
      "saving prediction to nifti file...\n"
     ]
    },
    {
     "name": "stderr",
     "output_type": "stream",
     "text": [
      "150it [29:42, 11.43s/it]"
     ]
    },
    {
     "name": "stdout",
     "output_type": "stream",
     "text": [
      "reshaping prediction...\n",
      "(240, 240, 155)\n",
      "saving prediction to nifti file...\n"
     ]
    },
    {
     "name": "stderr",
     "output_type": "stream",
     "text": [
      "151it [29:55, 11.73s/it]"
     ]
    },
    {
     "name": "stdout",
     "output_type": "stream",
     "text": [
      "reshaping prediction...\n",
      "(240, 240, 155)\n",
      "saving prediction to nifti file...\n"
     ]
    },
    {
     "name": "stderr",
     "output_type": "stream",
     "text": [
      "152it [30:07, 11.99s/it]"
     ]
    },
    {
     "name": "stdout",
     "output_type": "stream",
     "text": [
      "reshaping prediction...\n",
      "(240, 240, 155)\n",
      "saving prediction to nifti file...\n"
     ]
    },
    {
     "name": "stderr",
     "output_type": "stream",
     "text": [
      "153it [30:19, 11.79s/it]"
     ]
    },
    {
     "name": "stdout",
     "output_type": "stream",
     "text": [
      "reshaping prediction...\n",
      "(240, 240, 155)\n",
      "saving prediction to nifti file...\n"
     ]
    },
    {
     "name": "stderr",
     "output_type": "stream",
     "text": [
      "154it [30:31, 12.06s/it]"
     ]
    },
    {
     "name": "stdout",
     "output_type": "stream",
     "text": [
      "reshaping prediction...\n",
      "(240, 240, 155)\n",
      "saving prediction to nifti file...\n"
     ]
    },
    {
     "name": "stderr",
     "output_type": "stream",
     "text": [
      "155it [30:43, 11.91s/it]"
     ]
    },
    {
     "name": "stdout",
     "output_type": "stream",
     "text": [
      "reshaping prediction...\n",
      "(240, 240, 155)\n",
      "saving prediction to nifti file...\n"
     ]
    },
    {
     "name": "stderr",
     "output_type": "stream",
     "text": [
      "156it [30:56, 12.24s/it]"
     ]
    },
    {
     "name": "stdout",
     "output_type": "stream",
     "text": [
      "reshaping prediction...\n",
      "(240, 240, 155)\n",
      "saving prediction to nifti file...\n"
     ]
    },
    {
     "name": "stderr",
     "output_type": "stream",
     "text": [
      "157it [31:08, 12.24s/it]"
     ]
    },
    {
     "name": "stdout",
     "output_type": "stream",
     "text": [
      "reshaping prediction...\n",
      "(240, 240, 155)\n",
      "saving prediction to nifti file...\n"
     ]
    },
    {
     "name": "stderr",
     "output_type": "stream",
     "text": [
      "158it [31:20, 12.12s/it]"
     ]
    },
    {
     "name": "stdout",
     "output_type": "stream",
     "text": [
      "reshaping prediction...\n",
      "(240, 240, 155)\n",
      "saving prediction to nifti file...\n"
     ]
    },
    {
     "name": "stderr",
     "output_type": "stream",
     "text": [
      "159it [31:32, 12.01s/it]"
     ]
    },
    {
     "name": "stdout",
     "output_type": "stream",
     "text": [
      "reshaping prediction...\n",
      "(240, 240, 155)\n",
      "saving prediction to nifti file...\n"
     ]
    },
    {
     "name": "stderr",
     "output_type": "stream",
     "text": [
      "160it [31:45, 12.52s/it]"
     ]
    },
    {
     "name": "stdout",
     "output_type": "stream",
     "text": [
      "reshaping prediction...\n",
      "(240, 240, 155)\n",
      "saving prediction to nifti file...\n"
     ]
    },
    {
     "name": "stderr",
     "output_type": "stream",
     "text": [
      "161it [31:57, 12.22s/it]"
     ]
    },
    {
     "name": "stdout",
     "output_type": "stream",
     "text": [
      "reshaping prediction...\n",
      "(240, 240, 155)\n",
      "saving prediction to nifti file...\n"
     ]
    },
    {
     "name": "stderr",
     "output_type": "stream",
     "text": [
      "162it [32:08, 12.03s/it]"
     ]
    },
    {
     "name": "stdout",
     "output_type": "stream",
     "text": [
      "reshaping prediction...\n",
      "(240, 240, 155)\n",
      "saving prediction to nifti file...\n"
     ]
    },
    {
     "name": "stderr",
     "output_type": "stream",
     "text": [
      "163it [32:22, 12.36s/it]"
     ]
    },
    {
     "name": "stdout",
     "output_type": "stream",
     "text": [
      "reshaping prediction...\n",
      "(240, 240, 155)\n",
      "saving prediction to nifti file...\n"
     ]
    },
    {
     "name": "stderr",
     "output_type": "stream",
     "text": [
      "164it [32:33, 12.11s/it]"
     ]
    },
    {
     "name": "stdout",
     "output_type": "stream",
     "text": [
      "reshaping prediction...\n",
      "ET being converted to TC\n",
      "(240, 240, 155)\n",
      "saving prediction to nifti file...\n"
     ]
    },
    {
     "name": "stderr",
     "output_type": "stream",
     "text": [
      "165it [32:44, 11.80s/it]"
     ]
    },
    {
     "name": "stdout",
     "output_type": "stream",
     "text": [
      "reshaping prediction...\n",
      "(240, 240, 155)\n",
      "saving prediction to nifti file...\n"
     ]
    },
    {
     "name": "stderr",
     "output_type": "stream",
     "text": [
      "166it [32:57, 11.97s/it]"
     ]
    },
    {
     "name": "stdout",
     "output_type": "stream",
     "text": [
      "reshaping prediction...\n",
      "ET being converted to TC\n",
      "(240, 240, 155)\n",
      "saving prediction to nifti file...\n"
     ]
    },
    {
     "name": "stderr",
     "output_type": "stream",
     "text": [
      "167it [33:07, 11.62s/it]"
     ]
    },
    {
     "name": "stdout",
     "output_type": "stream",
     "text": [
      "reshaping prediction...\n",
      "(240, 240, 155)\n",
      "saving prediction to nifti file...\n"
     ]
    },
    {
     "name": "stderr",
     "output_type": "stream",
     "text": [
      "168it [33:20, 11.95s/it]"
     ]
    },
    {
     "name": "stdout",
     "output_type": "stream",
     "text": [
      "reshaping prediction...\n",
      "(240, 240, 155)\n",
      "saving prediction to nifti file...\n"
     ]
    },
    {
     "name": "stderr",
     "output_type": "stream",
     "text": [
      "169it [33:31, 11.61s/it]"
     ]
    },
    {
     "name": "stdout",
     "output_type": "stream",
     "text": [
      "reshaping prediction...\n",
      "(240, 240, 155)\n",
      "saving prediction to nifti file...\n"
     ]
    },
    {
     "name": "stderr",
     "output_type": "stream",
     "text": [
      "170it [33:41, 11.14s/it]"
     ]
    },
    {
     "name": "stdout",
     "output_type": "stream",
     "text": [
      "reshaping prediction...\n",
      "(240, 240, 155)\n",
      "saving prediction to nifti file...\n"
     ]
    },
    {
     "name": "stderr",
     "output_type": "stream",
     "text": [
      "171it [33:55, 11.95s/it]"
     ]
    },
    {
     "name": "stdout",
     "output_type": "stream",
     "text": [
      "reshaping prediction...\n",
      "(240, 240, 155)\n",
      "saving prediction to nifti file...\n"
     ]
    },
    {
     "name": "stderr",
     "output_type": "stream",
     "text": [
      "172it [34:06, 11.71s/it]"
     ]
    },
    {
     "name": "stdout",
     "output_type": "stream",
     "text": [
      "reshaping prediction...\n",
      "(240, 240, 155)\n",
      "saving prediction to nifti file...\n"
     ]
    },
    {
     "name": "stderr",
     "output_type": "stream",
     "text": [
      "173it [34:17, 11.38s/it]"
     ]
    },
    {
     "name": "stdout",
     "output_type": "stream",
     "text": [
      "reshaping prediction...\n",
      "(240, 240, 155)\n",
      "saving prediction to nifti file...\n"
     ]
    },
    {
     "name": "stderr",
     "output_type": "stream",
     "text": [
      "174it [34:29, 11.56s/it]"
     ]
    },
    {
     "name": "stdout",
     "output_type": "stream",
     "text": [
      "reshaping prediction...\n",
      "ET being converted to TC\n",
      "(240, 240, 155)\n",
      "saving prediction to nifti file...\n"
     ]
    },
    {
     "name": "stderr",
     "output_type": "stream",
     "text": [
      "175it [34:40, 11.58s/it]"
     ]
    },
    {
     "name": "stdout",
     "output_type": "stream",
     "text": [
      "reshaping prediction...\n",
      "(240, 240, 155)\n",
      "saving prediction to nifti file...\n"
     ]
    },
    {
     "name": "stderr",
     "output_type": "stream",
     "text": [
      "176it [34:52, 11.68s/it]"
     ]
    },
    {
     "name": "stdout",
     "output_type": "stream",
     "text": [
      "reshaping prediction...\n",
      "(240, 240, 155)\n",
      "saving prediction to nifti file...\n"
     ]
    },
    {
     "name": "stderr",
     "output_type": "stream",
     "text": [
      "177it [35:03, 11.51s/it]"
     ]
    },
    {
     "name": "stdout",
     "output_type": "stream",
     "text": [
      "reshaping prediction...\n",
      "(240, 240, 155)\n",
      "saving prediction to nifti file...\n"
     ]
    },
    {
     "name": "stderr",
     "output_type": "stream",
     "text": [
      "178it [35:16, 12.04s/it]"
     ]
    },
    {
     "name": "stdout",
     "output_type": "stream",
     "text": [
      "reshaping prediction...\n",
      "(240, 240, 155)\n",
      "saving prediction to nifti file...\n"
     ]
    },
    {
     "name": "stderr",
     "output_type": "stream",
     "text": [
      "179it [35:29, 12.32s/it]"
     ]
    },
    {
     "name": "stdout",
     "output_type": "stream",
     "text": [
      "reshaping prediction...\n",
      "(240, 240, 155)\n",
      "saving prediction to nifti file...\n"
     ]
    },
    {
     "name": "stderr",
     "output_type": "stream",
     "text": [
      "180it [35:43, 12.72s/it]"
     ]
    },
    {
     "name": "stdout",
     "output_type": "stream",
     "text": [
      "reshaping prediction...\n",
      "(240, 240, 155)\n",
      "saving prediction to nifti file...\n"
     ]
    },
    {
     "name": "stderr",
     "output_type": "stream",
     "text": [
      "181it [35:55, 12.47s/it]"
     ]
    },
    {
     "name": "stdout",
     "output_type": "stream",
     "text": [
      "reshaping prediction...\n",
      "(240, 240, 155)\n",
      "saving prediction to nifti file...\n"
     ]
    },
    {
     "name": "stderr",
     "output_type": "stream",
     "text": [
      "182it [36:07, 12.27s/it]"
     ]
    },
    {
     "name": "stdout",
     "output_type": "stream",
     "text": [
      "reshaping prediction...\n",
      "(240, 240, 155)\n",
      "saving prediction to nifti file...\n"
     ]
    },
    {
     "name": "stderr",
     "output_type": "stream",
     "text": [
      "183it [36:19, 12.12s/it]"
     ]
    },
    {
     "name": "stdout",
     "output_type": "stream",
     "text": [
      "reshaping prediction...\n",
      "(240, 240, 155)\n",
      "saving prediction to nifti file...\n"
     ]
    },
    {
     "name": "stderr",
     "output_type": "stream",
     "text": [
      "184it [36:30, 12.05s/it]"
     ]
    },
    {
     "name": "stdout",
     "output_type": "stream",
     "text": [
      "reshaping prediction...\n",
      "(240, 240, 155)\n",
      "saving prediction to nifti file...\n"
     ]
    },
    {
     "name": "stderr",
     "output_type": "stream",
     "text": [
      "185it [36:43, 12.08s/it]"
     ]
    },
    {
     "name": "stdout",
     "output_type": "stream",
     "text": [
      "reshaping prediction...\n",
      "(240, 240, 155)\n",
      "saving prediction to nifti file...\n"
     ]
    },
    {
     "name": "stderr",
     "output_type": "stream",
     "text": [
      "186it [36:55, 12.22s/it]"
     ]
    },
    {
     "name": "stdout",
     "output_type": "stream",
     "text": [
      "reshaping prediction...\n",
      "(240, 240, 155)\n",
      "saving prediction to nifti file...\n"
     ]
    },
    {
     "name": "stderr",
     "output_type": "stream",
     "text": [
      "187it [37:06, 11.93s/it]"
     ]
    },
    {
     "name": "stdout",
     "output_type": "stream",
     "text": [
      "reshaping prediction...\n",
      "(240, 240, 155)\n",
      "saving prediction to nifti file...\n"
     ]
    },
    {
     "name": "stderr",
     "output_type": "stream",
     "text": [
      "188it [37:19, 12.03s/it]"
     ]
    },
    {
     "name": "stdout",
     "output_type": "stream",
     "text": [
      "reshaping prediction...\n",
      "ET being converted to TC\n",
      "(240, 240, 155)\n",
      "saving prediction to nifti file...\n"
     ]
    },
    {
     "name": "stderr",
     "output_type": "stream",
     "text": [
      "189it [37:30, 11.83s/it]"
     ]
    },
    {
     "name": "stdout",
     "output_type": "stream",
     "text": [
      "reshaping prediction...\n",
      "(240, 240, 155)\n",
      "saving prediction to nifti file...\n"
     ]
    },
    {
     "name": "stderr",
     "output_type": "stream",
     "text": [
      "190it [37:42, 11.97s/it]"
     ]
    },
    {
     "name": "stdout",
     "output_type": "stream",
     "text": [
      "reshaping prediction...\n",
      "(240, 240, 155)\n",
      "saving prediction to nifti file...\n"
     ]
    },
    {
     "name": "stderr",
     "output_type": "stream",
     "text": [
      "191it [37:55, 12.19s/it]"
     ]
    },
    {
     "name": "stdout",
     "output_type": "stream",
     "text": [
      "reshaping prediction...\n",
      "(240, 240, 155)\n",
      "saving prediction to nifti file...\n"
     ]
    },
    {
     "name": "stderr",
     "output_type": "stream",
     "text": [
      "192it [38:08, 12.32s/it]"
     ]
    },
    {
     "name": "stdout",
     "output_type": "stream",
     "text": [
      "reshaping prediction...\n",
      "(240, 240, 155)\n",
      "saving prediction to nifti file...\n"
     ]
    },
    {
     "name": "stderr",
     "output_type": "stream",
     "text": [
      "193it [38:20, 12.37s/it]"
     ]
    },
    {
     "name": "stdout",
     "output_type": "stream",
     "text": [
      "reshaping prediction...\n",
      "(240, 240, 155)\n",
      "saving prediction to nifti file...\n"
     ]
    },
    {
     "name": "stderr",
     "output_type": "stream",
     "text": [
      "194it [38:33, 12.37s/it]"
     ]
    },
    {
     "name": "stdout",
     "output_type": "stream",
     "text": [
      "reshaping prediction...\n",
      "(240, 240, 155)\n",
      "saving prediction to nifti file...\n"
     ]
    },
    {
     "name": "stderr",
     "output_type": "stream",
     "text": [
      "195it [38:44, 12.05s/it]"
     ]
    },
    {
     "name": "stdout",
     "output_type": "stream",
     "text": [
      "reshaping prediction...\n",
      "(240, 240, 155)\n",
      "saving prediction to nifti file...\n"
     ]
    },
    {
     "name": "stderr",
     "output_type": "stream",
     "text": [
      "196it [38:57, 12.31s/it]"
     ]
    },
    {
     "name": "stdout",
     "output_type": "stream",
     "text": [
      "reshaping prediction...\n",
      "(240, 240, 155)\n",
      "saving prediction to nifti file...\n"
     ]
    },
    {
     "name": "stderr",
     "output_type": "stream",
     "text": [
      "197it [39:09, 12.23s/it]"
     ]
    },
    {
     "name": "stdout",
     "output_type": "stream",
     "text": [
      "reshaping prediction...\n",
      "(240, 240, 155)\n",
      "saving prediction to nifti file...\n"
     ]
    },
    {
     "name": "stderr",
     "output_type": "stream",
     "text": [
      "198it [39:20, 11.89s/it]"
     ]
    },
    {
     "name": "stdout",
     "output_type": "stream",
     "text": [
      "reshaping prediction...\n",
      "(240, 240, 155)\n",
      "saving prediction to nifti file...\n"
     ]
    },
    {
     "name": "stderr",
     "output_type": "stream",
     "text": [
      "199it [39:33, 12.13s/it]"
     ]
    },
    {
     "name": "stdout",
     "output_type": "stream",
     "text": [
      "reshaping prediction...\n",
      "(240, 240, 155)\n",
      "saving prediction to nifti file...\n"
     ]
    },
    {
     "name": "stderr",
     "output_type": "stream",
     "text": [
      "200it [39:45, 12.11s/it]"
     ]
    },
    {
     "name": "stdout",
     "output_type": "stream",
     "text": [
      "reshaping prediction...\n",
      "(240, 240, 155)\n",
      "saving prediction to nifti file...\n"
     ]
    },
    {
     "name": "stderr",
     "output_type": "stream",
     "text": [
      "201it [39:59, 12.87s/it]"
     ]
    },
    {
     "name": "stdout",
     "output_type": "stream",
     "text": [
      "reshaping prediction...\n",
      "(240, 240, 155)\n",
      "saving prediction to nifti file...\n"
     ]
    },
    {
     "name": "stderr",
     "output_type": "stream",
     "text": [
      "202it [40:11, 12.55s/it]"
     ]
    },
    {
     "name": "stdout",
     "output_type": "stream",
     "text": [
      "reshaping prediction...\n",
      "(240, 240, 155)\n",
      "saving prediction to nifti file...\n"
     ]
    },
    {
     "name": "stderr",
     "output_type": "stream",
     "text": [
      "203it [40:22, 11.92s/it]"
     ]
    },
    {
     "name": "stdout",
     "output_type": "stream",
     "text": [
      "reshaping prediction...\n",
      "(240, 240, 155)\n",
      "saving prediction to nifti file...\n"
     ]
    },
    {
     "name": "stderr",
     "output_type": "stream",
     "text": [
      "204it [40:33, 11.70s/it]"
     ]
    },
    {
     "name": "stdout",
     "output_type": "stream",
     "text": [
      "reshaping prediction...\n",
      "(240, 240, 155)\n",
      "saving prediction to nifti file...\n"
     ]
    },
    {
     "name": "stderr",
     "output_type": "stream",
     "text": [
      "205it [40:44, 11.59s/it]"
     ]
    },
    {
     "name": "stdout",
     "output_type": "stream",
     "text": [
      "reshaping prediction...\n",
      "(240, 240, 155)\n",
      "saving prediction to nifti file...\n"
     ]
    },
    {
     "name": "stderr",
     "output_type": "stream",
     "text": [
      "206it [40:56, 11.73s/it]"
     ]
    },
    {
     "name": "stdout",
     "output_type": "stream",
     "text": [
      "reshaping prediction...\n",
      "(240, 240, 155)\n",
      "saving prediction to nifti file...\n"
     ]
    },
    {
     "name": "stderr",
     "output_type": "stream",
     "text": [
      "207it [41:07, 11.59s/it]"
     ]
    },
    {
     "name": "stdout",
     "output_type": "stream",
     "text": [
      "reshaping prediction...\n",
      "ET being converted to TC\n",
      "(240, 240, 155)\n",
      "saving prediction to nifti file...\n"
     ]
    },
    {
     "name": "stderr",
     "output_type": "stream",
     "text": [
      "208it [41:19, 11.52s/it]"
     ]
    },
    {
     "name": "stdout",
     "output_type": "stream",
     "text": [
      "reshaping prediction...\n",
      "(240, 240, 155)\n",
      "saving prediction to nifti file...\n"
     ]
    },
    {
     "name": "stderr",
     "output_type": "stream",
     "text": [
      "209it [41:29, 11.07s/it]"
     ]
    },
    {
     "name": "stdout",
     "output_type": "stream",
     "text": [
      "reshaping prediction...\n",
      "(240, 240, 155)\n",
      "saving prediction to nifti file...\n"
     ]
    },
    {
     "name": "stderr",
     "output_type": "stream",
     "text": [
      "210it [41:41, 11.28s/it]"
     ]
    },
    {
     "name": "stdout",
     "output_type": "stream",
     "text": [
      "reshaping prediction...\n",
      "(240, 240, 155)\n",
      "saving prediction to nifti file...\n"
     ]
    },
    {
     "name": "stderr",
     "output_type": "stream",
     "text": [
      "211it [41:53, 11.78s/it]"
     ]
    },
    {
     "name": "stdout",
     "output_type": "stream",
     "text": [
      "reshaping prediction...\n",
      "(240, 240, 155)\n",
      "saving prediction to nifti file...\n"
     ]
    },
    {
     "name": "stderr",
     "output_type": "stream",
     "text": [
      "212it [42:02, 10.94s/it]"
     ]
    },
    {
     "name": "stdout",
     "output_type": "stream",
     "text": [
      "reshaping prediction...\n",
      "(240, 240, 155)\n",
      "saving prediction to nifti file...\n"
     ]
    },
    {
     "name": "stderr",
     "output_type": "stream",
     "text": [
      "213it [42:15, 11.34s/it]"
     ]
    },
    {
     "name": "stdout",
     "output_type": "stream",
     "text": [
      "reshaping prediction...\n",
      "(240, 240, 155)\n",
      "saving prediction to nifti file...\n"
     ]
    },
    {
     "name": "stderr",
     "output_type": "stream",
     "text": [
      "214it [42:26, 11.40s/it]"
     ]
    },
    {
     "name": "stdout",
     "output_type": "stream",
     "text": [
      "reshaping prediction...\n",
      "(240, 240, 155)\n",
      "saving prediction to nifti file...\n"
     ]
    },
    {
     "name": "stderr",
     "output_type": "stream",
     "text": [
      "215it [42:38, 11.42s/it]"
     ]
    },
    {
     "name": "stdout",
     "output_type": "stream",
     "text": [
      "reshaping prediction...\n",
      "(240, 240, 155)\n",
      "saving prediction to nifti file...\n"
     ]
    },
    {
     "name": "stderr",
     "output_type": "stream",
     "text": [
      "216it [42:49, 11.25s/it]"
     ]
    },
    {
     "name": "stdout",
     "output_type": "stream",
     "text": [
      "reshaping prediction...\n",
      "(240, 240, 155)\n",
      "saving prediction to nifti file...\n"
     ]
    },
    {
     "name": "stderr",
     "output_type": "stream",
     "text": [
      "217it [43:01, 11.50s/it]"
     ]
    },
    {
     "name": "stdout",
     "output_type": "stream",
     "text": [
      "reshaping prediction...\n",
      "ET being converted to TC\n",
      "(240, 240, 155)\n",
      "saving prediction to nifti file...\n"
     ]
    },
    {
     "name": "stderr",
     "output_type": "stream",
     "text": [
      "218it [43:13, 11.65s/it]"
     ]
    },
    {
     "name": "stdout",
     "output_type": "stream",
     "text": [
      "reshaping prediction...\n",
      "(240, 240, 155)\n",
      "saving prediction to nifti file...\n"
     ]
    },
    {
     "name": "stderr",
     "output_type": "stream",
     "text": [
      "219it [43:27, 11.91s/it]"
     ]
    },
    {
     "name": "stdout",
     "output_type": "stream",
     "text": [
      "writing sizes to file\n"
     ]
    },
    {
     "name": "stderr",
     "output_type": "stream",
     "text": [
      "\n"
     ]
    }
   ],
   "source": [
    "import torch\n",
    "import torch.nn as nn\n",
    "import torch.nn.functional as F\n",
    "import os\n",
    "import numpy as np\n",
    "import matplotlib.pyplot as plt\n",
    "import nibabel as nib\n",
    "from tqdm import tqdm\n",
    "from pathlib import Path\n",
    "from skimage import measure\n",
    "import scipy.ndimage\n",
    "\n",
    "from postprocessingfunction import refine_lable\n",
    "from loss import DiceLoss, dice_coef_metric\n",
    "from model import Model\n",
    "\n",
    "VALIDATION_FOLDER = \"validationcombinebothstages\"\n",
    "Path(f\"./{VALIDATION_FOLDER}\").mkdir(parents=True, exist_ok=True)\n",
    "\n",
    "def get_bbox(img):\n",
    "    r = np.any(img, axis=(1, 2))\n",
    "    c = np.any(img, axis=(0, 2))\n",
    "    z = np.any(img, axis=(0, 1))\n",
    "\n",
    "    rmin, rmax = np.where(r)[0][[0, -1]]\n",
    "    cmin, cmax = np.where(c)[0][[0, -1]]\n",
    "    zmin, zmax = np.where(z)[0][[0, -1]]\n",
    "\n",
    "    return rmin, rmax, cmin, cmax, zmin, zmax\n",
    "\n",
    "\n",
    "def get_padded_bbox(labels, padding=0.1):\n",
    "    xmin0, xmax0, ymin0, ymax0, zmin0, zmax0 = get_bbox(labels[0])\n",
    "    xmin1, xmax1, ymin1, ymax1, zmin1, zmax1 = get_bbox(labels[1])\n",
    "    xmin2, xmax2, ymin2, ymax2, zmin2, zmax2 = get_bbox(labels[2])\n",
    "    \n",
    "    xmin = min(xmin0, xmin1, xmin2)\n",
    "    ymin = min(ymin0, ymin1, ymin2)\n",
    "    zmin = min(zmin0, zmin1, zmin2)\n",
    "    xmax = max(xmax0, xmax1, xmax2)\n",
    "    ymax = max(ymax0, ymax1, ymax2)\n",
    "    zmax = max(zmax0, zmax1, zmax2)\n",
    "\n",
    "    cropped = labels[xmin:xmax, ymin:ymax, zmin:zmax]\n",
    "\n",
    "    # make cuboid\n",
    "    longest_axis = np.argmax(cropped.shape)\n",
    "    length = max(cropped.shape)\n",
    "    bbox = [xmin, ymin, zmin, xmax, ymax, zmax]\n",
    "    cubebox = []\n",
    "    for i in range(3):\n",
    "        start = bbox[i]\n",
    "        end = bbox[i+3]\n",
    "        padstart = round((length - (end - start)) / 2)\n",
    "        padend = (length - (end - start)) // 2\n",
    "        cubebox.append(start - padstart)\n",
    "        cubebox.append(end + padend)\n",
    "    xmin, xmax, ymin, ymax, zmin, zmax = cubebox\n",
    "\n",
    "    # add padding\n",
    "    xmin -= round(padding * length)\n",
    "    ymin -= round(padding * length)\n",
    "    zmin -= round(padding * length)\n",
    "    xmax += round(padding * length)\n",
    "    ymax += round(padding * length)\n",
    "    zmax += round(padding * length)\n",
    "\n",
    "    # make sure coords are within bounds\n",
    "    xmin = max(0, xmin)\n",
    "    ymin = max(0, ymin)\n",
    "    zmin = max(0, zmin)\n",
    "    xmax = min(240, xmax)\n",
    "    ymax = min(240, ymax)\n",
    "    zmax = min(155, zmax)\n",
    "\n",
    "    return xmin, xmax, ymin, ymax, zmin, zmax\n",
    "\n",
    "def pad_to_cuboid(arr):\n",
    "    xlen = arr.shape[0]\n",
    "    ylen = arr.shape[1]\n",
    "    zlen = arr.shape[2]\n",
    "    if (xlen != ylen) or (ylen != zlen) or (zlen != xlen):\n",
    "        size = max(xlen, ylen, zlen)\n",
    "\n",
    "        a = (size - xlen) // 2\n",
    "        aa = size - a - xlen\n",
    "\n",
    "        b = (size - ylen) // 2\n",
    "        bb = size - b - ylen\n",
    "\n",
    "        c = (size - zlen) // 2\n",
    "        cc = size - c - zlen\n",
    "\n",
    "        return np.pad(arr, [(a, aa), (b, bb), (c, cc)], mode='constant')\n",
    "    return arr\n",
    "    \n",
    "def pad_x_to_cuboid(arr):\n",
    "    xlen = arr.shape[1]\n",
    "    ylen = arr.shape[2]\n",
    "    zlen = arr.shape[3]\n",
    "    if (xlen != ylen) or (ylen != zlen) or (zlen != xlen):\n",
    "        size = max(xlen, ylen, zlen)\n",
    "\n",
    "        a = (size - xlen) // 2\n",
    "        aa = size - a - xlen\n",
    "\n",
    "        b = (size - ylen) // 2\n",
    "        bb = size - b - ylen\n",
    "\n",
    "        c = (size - zlen) // 2\n",
    "        cc = size - c - zlen\n",
    "\n",
    "        return np.pad(arr, [(0, 0), (a, aa), (b, bb), (c, cc)], mode='constant')\n",
    "    return arr\n",
    "\n",
    "def preprocess_mask_labels(mask: np.ndarray):\n",
    "    mask_WT = mask.copy()\n",
    "    mask_WT[mask_WT == 1] = 1\n",
    "    mask_WT[mask_WT == 2] = 1\n",
    "    mask_WT[mask_WT == 4] = 1\n",
    "\n",
    "    mask_TC = mask.copy()\n",
    "    mask_TC[mask_TC == 1] = 1\n",
    "    mask_TC[mask_TC == 2] = 0\n",
    "    mask_TC[mask_TC == 4] = 1\n",
    "\n",
    "    mask_ET = mask.copy()\n",
    "    mask_ET[mask_ET == 1] = 0\n",
    "    mask_ET[mask_ET == 2] = 0\n",
    "    mask_ET[mask_ET == 4] = 1\n",
    "\n",
    "    mask = np.stack([mask_TC, mask_WT , mask_ET])\n",
    "    return mask\n",
    "    \n",
    "def normalize(data: np.ndarray):\n",
    "    return (data - data.mean()) / data.std()\n",
    "\n",
    "def dice(prob, truth, eps: float = 1e-9):\n",
    "    pred = (prob >= 0.5)\n",
    "    intersection = 2.0 * (pred * truth).sum()\n",
    "    union = truth.sum() + pred.sum()\n",
    "    if truth.sum() == 0 and pred.sum() == 0:\n",
    "        return 1.0\n",
    "    else:\n",
    "        return ((intersection + eps) / union).item()\n",
    "\n",
    "def dice_overall(probabilities, truth, threshold: float = 0.5, eps: float = 1e-9):\n",
    "    scores = []\n",
    "    num = probabilities.shape[0]\n",
    "    predictions = (probabilities >= threshold)\n",
    "    assert(predictions.shape == truth.shape)\n",
    "    for i in range(num):\n",
    "        prediction = predictions[i]\n",
    "        truth_ = truth[i]\n",
    "        intersection = 2.0 * (truth_ * prediction).sum()\n",
    "        union = truth_.sum() + prediction.sum()\n",
    "        if truth_.sum() == 0 and prediction.sum() == 0:\n",
    "            scores.append(1.0)\n",
    "        else:\n",
    "            scores.append(((intersection + eps) / union).item())\n",
    "    return np.mean(scores)\n",
    "\n",
    "\n",
    "PATH = \"./bbox_models/d3c40newdata.pt\"\n",
    "bbox_model = Model(in_channels=4, n_classes=3, n_channels=40)\n",
    "bbox_model.load_state_dict(torch.load(PATH))\n",
    "bbox_model.eval()\n",
    "print(f\"loaded {PATH}\")\n",
    "\n",
    "PATH = \"./segment_models/d3c40bbox.pt\"\n",
    "segment_model = Model(in_channels=4, n_classes=3, n_channels=40)\n",
    "segment_model.load_state_dict(torch.load(PATH))\n",
    "segment_model.eval()\n",
    "print(f\"loaded {PATH}\")\n",
    "\n",
    "rootPath = \"/projects/ab57/data/BraTS2021_Validation_Combined/\"\n",
    "\n",
    "subject = []\n",
    "\n",
    "# sizes\n",
    "NULLs = []\n",
    "ETs = []\n",
    "WTs = []\n",
    "TCs = []\n",
    "\n",
    "print(f\"using path {rootPath}\")\n",
    "with os.scandir(rootPath) as it:\n",
    "    for entry in tqdm(it):\n",
    "        ''' First Stage '''\n",
    "        x = np.load(entry.path)\n",
    "\n",
    "        # scale down image\n",
    "        # x = scipy.ndimage.zoom(x, (1, 0.5, 0.5, 0.5), order=0)\n",
    "\n",
    "        # crop to brain extent\n",
    "        rmin, rmax, cmin, cmax, zmin, zmax = get_bbox(x[0])\n",
    "        x = x[:, rmin:rmax, cmin:cmax, zmin:zmax]\n",
    "\n",
    "        x = normalize(x)\n",
    "        x = torch.from_numpy(x)\n",
    "        x = x.unsqueeze(0)\n",
    "        x = x.float()\n",
    "\n",
    "        pred = bbox_model(x)\n",
    "        pred = torch.sigmoid(pred)[0]\n",
    "        pred1 = pred.detach().cpu().numpy()\n",
    "\n",
    "        # scale up prediction\n",
    "        # pred = scipy.ndimage.zoom(pred, (1, 2, 2, 2), order=0)\n",
    "\n",
    "        ''' Second Stage '''\n",
    "        x = np.load(entry.path)\n",
    "\n",
    "        # crop to brain extent\n",
    "        rmin, rmax, cmin, cmax, zmin, zmax = get_bbox(x[0])\n",
    "        x = x[:, rmin:rmax, cmin:cmax, zmin:zmax]\n",
    "\n",
    "        # crop to tumor bounding box\n",
    "        rmint, rmaxt, cmint, cmaxt, zmint, zmaxt = get_padded_bbox(pred1)\n",
    "        x = x[:, rmint:rmaxt, cmint:cmaxt, zmint:zmaxt]\n",
    "\n",
    "        # x = pad_x_to_cuboid(x)\n",
    "        x = normalize(x)\n",
    "        x = torch.from_numpy(x)\n",
    "        x = x.unsqueeze(0)\n",
    "        x = x.float()\n",
    "\n",
    "        pred = segment_model(x)\n",
    "        pred = torch.sigmoid(pred)[0]\n",
    "        pred2 = pred.detach().cpu().numpy()\n",
    "\n",
    "        ''' Combine Predictions '''\n",
    "        # reapply padding to both outputs\n",
    "        pred1 = np.pad(pred1, ((0, 0), (rmin, 240-rmin-pred1.shape[1]), (cmin, 240-cmin-pred1.shape[2]), (zmin, 155-zmin-pred1.shape[3])), 'constant', constant_values=(0))\n",
    "        pred2 = np.pad(pred2, ((0, 0), (rmin+rmint, 240-(rmin+rmint)-pred2.shape[1]), (cmin+cmint, 240-(cmin+cmint)-pred2.shape[2]), (zmin+zmint, 155-(zmin+zmint)-pred2.shape[3])), 'constant', constant_values=(0))\n",
    "\n",
    "        # take average of the two\n",
    "        pred = np.mean(np.array([ pred1, pred2 ]), axis=0)\n",
    "        pred = np.rint(pred)\n",
    "\n",
    "        ''' Create Submission Files '''\n",
    "        func = nib.load(\"/projects/ab57/data/RSNA_ASNR_MICCAI_BraTS2021_ValidationData/BraTS2021_00082/BraTS2021_00082_t1.nii.gz\")\n",
    "\n",
    "        print(\"reshaping prediction...\")\n",
    "        # 1 for TC, 2 for WT, 4 for ET,\n",
    "        TC = pred[0]\n",
    "        WT = pred[1] * 2\n",
    "        \n",
    "        if np.count_nonzero(pred[2]) < 500:\n",
    "            print(\"ET being converted to TC\")\n",
    "            ET = pred[2]\n",
    "        else:\n",
    "            ET = pred[2] * 4\n",
    "        \n",
    "        y = np.where(ET != 0, ET, TC)\n",
    "        y = np.where(y != 0, y, WT)\n",
    "        print(y.shape)\n",
    "        print(\"saving prediction to nifti file...\")\n",
    "        ni_img = nib.Nifti1Image(y, func.affine)\n",
    "        nib.save(ni_img, f\"./{VALIDATION_FOLDER}/{entry.name[:-4]}.nii.gz\")\n",
    "\n",
    "        ''' Calculate Prediction Tumour Sizes '''\n",
    "        subregions, sizes = np.unique(y, return_counts=True)\n",
    "        if 1 not in subregions:\n",
    "            sizes = np.insert(sizes, 1, 0)\n",
    "        if 2 not in subregions:\n",
    "            sizes = np.insert(sizes, 2, 0)\n",
    "        if 4 not in subregions:\n",
    "            sizes = np.insert(sizes, 3, 0)\n",
    "        \n",
    "        NULL_area, TC_area, WT_area, ET_area = sizes\n",
    "        NULLs.append(NULL_area)\n",
    "        ETs.append(ET_area)\n",
    "        WTs.append(WT_area)\n",
    "        TCs.append(TC_area)\n",
    "        subject.append(entry.path.split('/')[-1])\n",
    "\n",
    "print('writing sizes to file')\n",
    "import csv\n",
    "rows = zip(subject, WTs, TCs, ETs, NULLs)\n",
    "with open(\"./combinebothstagesexternal.csv\", \"w\") as f:\n",
    "    writer = csv.writer(f)\n",
    "    writer.writerow(['SUBJECT', 'WT_area', 'TC_area', 'ET_area', 'NULL_area'])\n",
    "    for row in rows:\n",
    "        writer.writerow(row)"
   ]
  },
  {
   "cell_type": "code",
   "execution_count": null,
   "metadata": {},
   "outputs": [],
   "source": []
  }
 ],
 "metadata": {
  "kernelspec": {
   "display_name": "Python 3",
   "language": "python",
   "name": "python3"
  },
  "language_info": {
   "codemirror_mode": {
    "name": "ipython",
    "version": 3
   },
   "file_extension": ".py",
   "mimetype": "text/x-python",
   "name": "python",
   "nbconvert_exporter": "python",
   "pygments_lexer": "ipython3",
   "version": "3.6.9"
  }
 },
 "nbformat": 4,
 "nbformat_minor": 4
}
