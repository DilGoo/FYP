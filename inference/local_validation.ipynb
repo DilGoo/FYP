{
 "cells": [
  {
   "cell_type": "code",
   "execution_count": 11,
   "metadata": {},
   "outputs": [
    {
     "name": "stderr",
     "output_type": "stream",
     "text": [
      "0it [00:00, ?it/s]"
     ]
    },
    {
     "name": "stdout",
     "output_type": "stream",
     "text": [
      "loaded ./bbox_models/d3c40newdata.pt\n",
      "loaded ./segment_models/d3c40bbox.pt\n",
      "\u001b[33mOverall: 0.9710718588651192\u001b[0m\n",
      " - DICE_WT: 0.9609567025903053\n",
      " - DICE_TC: 0.9817626737367238\n",
      " - DICE_ET: 0.9704962002683282\n"
     ]
    },
    {
     "name": "stderr",
     "output_type": "stream",
     "text": [
      "1it [00:13, 13.33s/it]"
     ]
    },
    {
     "name": "stdout",
     "output_type": "stream",
     "text": [
      "\u001b[33mOverall: 0.7916562727271033\u001b[0m\n",
      " - DICE_WT: 0.9183027856497262\n",
      " - DICE_TC: 0.6389643099567762\n",
      " - DICE_ET: 0.8177017225748074\n"
     ]
    },
    {
     "name": "stderr",
     "output_type": "stream",
     "text": [
      "2it [00:25, 12.95s/it]"
     ]
    },
    {
     "name": "stdout",
     "output_type": "stream",
     "text": [
      "\u001b[33mOverall: 0.6256432852048358\u001b[0m\n",
      " - DICE_WT: 0.9491262101835397\n",
      " - DICE_TC: 0.27642817526347757\n",
      " - DICE_ET: 0.6513754701674903\n"
     ]
    },
    {
     "name": "stderr",
     "output_type": "stream",
     "text": [
      "3it [00:36, 12.54s/it]"
     ]
    },
    {
     "name": "stdout",
     "output_type": "stream",
     "text": [
      "\u001b[33mOverall: 0.8589145098990617\u001b[0m\n",
      " - DICE_WT: 0.7699735858118161\n",
      " - DICE_TC: 0.9440374230385925\n",
      " - DICE_ET: 0.8627325208467768\n"
     ]
    },
    {
     "name": "stderr",
     "output_type": "stream",
     "text": [
      "4it [00:48, 12.27s/it]"
     ]
    },
    {
     "name": "stdout",
     "output_type": "stream",
     "text": [
      "\u001b[33mOverall: 0.9075453486496478\u001b[0m\n",
      " - DICE_WT: 0.9673087468096045\n",
      " - DICE_TC: 0.8614091087701975\n",
      " - DICE_ET: 0.8939181903691413\n"
     ]
    },
    {
     "name": "stderr",
     "output_type": "stream",
     "text": [
      "5it [01:02, 12.67s/it]"
     ]
    },
    {
     "name": "stdout",
     "output_type": "stream",
     "text": [
      "\u001b[33mOverall: 0.8791301407186008\u001b[0m\n",
      " - DICE_WT: 0.9385007834295152\n",
      " - DICE_TC: 0.8925302386400988\n",
      " - DICE_ET: 0.8063594000861887\n"
     ]
    },
    {
     "name": "stderr",
     "output_type": "stream",
     "text": [
      "6it [01:13, 12.29s/it]"
     ]
    },
    {
     "name": "stdout",
     "output_type": "stream",
     "text": [
      "\u001b[33mOverall: 0.947386837247882\u001b[0m\n",
      " - DICE_WT: 0.934845289006734\n",
      " - DICE_TC: 0.9657731431131086\n",
      " - DICE_ET: 0.9415420796238032\n"
     ]
    },
    {
     "name": "stderr",
     "output_type": "stream",
     "text": [
      "7it [01:24, 11.98s/it]"
     ]
    },
    {
     "name": "stdout",
     "output_type": "stream",
     "text": [
      "\u001b[33mOverall: 0.9340377551643342\u001b[0m\n",
      " - DICE_WT: 0.9218652849741162\n",
      " - DICE_TC: 0.9562023638573124\n",
      " - DICE_ET: 0.9240456166615737\n"
     ]
    },
    {
     "name": "stderr",
     "output_type": "stream",
     "text": [
      "8it [01:37, 12.15s/it]"
     ]
    },
    {
     "name": "stdout",
     "output_type": "stream",
     "text": [
      "\u001b[33mOverall: 0.9535166085751033\u001b[0m\n",
      " - DICE_WT: 0.9687043207466702\n",
      " - DICE_TC: 0.9573123803046482\n",
      " - DICE_ET: 0.9345331246739914\n"
     ]
    },
    {
     "name": "stderr",
     "output_type": "stream",
     "text": [
      "9it [01:50, 12.33s/it]"
     ]
    },
    {
     "name": "stdout",
     "output_type": "stream",
     "text": [
      "\u001b[33mOverall: 0.9507076534407369\u001b[0m\n",
      " - DICE_WT: 0.959653560862682\n",
      " - DICE_TC: 0.9553922189837156\n",
      " - DICE_ET: 0.9370771804758129\n"
     ]
    },
    {
     "name": "stderr",
     "output_type": "stream",
     "text": [
      "10it [02:01, 12.00s/it]"
     ]
    },
    {
     "name": "stdout",
     "output_type": "stream",
     "text": [
      "\u001b[33mOverall: 0.9715100844249239\u001b[0m\n",
      " - DICE_WT: 0.9846828544709995\n",
      " - DICE_TC: 0.9845115704803062\n",
      " - DICE_ET: 0.9453358283234661\n"
     ]
    },
    {
     "name": "stderr",
     "output_type": "stream",
     "text": [
      "11it [02:15, 12.50s/it]"
     ]
    },
    {
     "name": "stdout",
     "output_type": "stream",
     "text": [
      "\u001b[33mOverall: 0.9659809065689017\u001b[0m\n",
      " - DICE_WT: 0.9635795521964129\n",
      " - DICE_TC: 0.9731572354965198\n",
      " - DICE_ET: 0.9612059320137721\n"
     ]
    },
    {
     "name": "stderr",
     "output_type": "stream",
     "text": [
      "12it [02:27, 12.55s/it]"
     ]
    },
    {
     "name": "stdout",
     "output_type": "stream",
     "text": [
      "\u001b[33mOverall: 0.9604511188842474\u001b[0m\n",
      " - DICE_WT: 0.9503896056162062\n",
      " - DICE_TC: 0.9809783554807694\n",
      " - DICE_ET: 0.9499853955557666\n"
     ]
    },
    {
     "name": "stderr",
     "output_type": "stream",
     "text": [
      "13it [02:39, 12.25s/it]"
     ]
    },
    {
     "name": "stdout",
     "output_type": "stream",
     "text": [
      "\u001b[33mOverall: 0.9153851847899728\u001b[0m\n",
      " - DICE_WT: 0.927586817411547\n",
      " - DICE_TC: 0.9204019585098842\n",
      " - DICE_ET: 0.8981667784484871\n"
     ]
    },
    {
     "name": "stderr",
     "output_type": "stream",
     "text": [
      "14it [02:51, 12.32s/it]"
     ]
    },
    {
     "name": "stdout",
     "output_type": "stream",
     "text": [
      "\u001b[33mOverall: 0.920555666672449\u001b[0m\n",
      " - DICE_WT: 0.88159593519641\n",
      " - DICE_TC: 0.9511079845235081\n",
      " - DICE_ET: 0.9289630802974291\n"
     ]
    },
    {
     "name": "stderr",
     "output_type": "stream",
     "text": [
      "15it [03:03, 12.17s/it]"
     ]
    },
    {
     "name": "stdout",
     "output_type": "stream",
     "text": [
      "\u001b[33mOverall: 0.80298331394124\u001b[0m\n",
      " - DICE_WT: 0.8128385357619984\n",
      " - DICE_TC: 0.7991079724959116\n",
      " - DICE_ET: 0.79700343356581\n"
     ]
    },
    {
     "name": "stderr",
     "output_type": "stream",
     "text": [
      "16it [03:16, 12.45s/it]"
     ]
    },
    {
     "name": "stdout",
     "output_type": "stream",
     "text": [
      "\u001b[33mOverall: 0.8754632888176547\u001b[0m\n",
      " - DICE_WT: 0.8366892593875394\n",
      " - DICE_TC: 0.8942078708375782\n",
      " - DICE_ET: 0.8954927362278465\n"
     ]
    },
    {
     "name": "stderr",
     "output_type": "stream",
     "text": [
      "17it [03:30, 12.77s/it]"
     ]
    },
    {
     "name": "stdout",
     "output_type": "stream",
     "text": [
      "\u001b[33mOverall: 0.9340355170251126\u001b[0m\n",
      " - DICE_WT: 0.9567757052865328\n",
      " - DICE_TC: 0.9457671381937105\n",
      " - DICE_ET: 0.899563707595094\n"
     ]
    },
    {
     "name": "stderr",
     "output_type": "stream",
     "text": [
      "18it [03:43, 12.85s/it]"
     ]
    },
    {
     "name": "stdout",
     "output_type": "stream",
     "text": [
      "\u001b[33mOverall: 0.8974919959649051\u001b[0m\n",
      " - DICE_WT: 0.9673902100462224\n",
      " - DICE_TC: 0.9468524686933475\n",
      " - DICE_ET: 0.7782333091551452\n"
     ]
    },
    {
     "name": "stderr",
     "output_type": "stream",
     "text": [
      "19it [03:56, 12.99s/it]"
     ]
    },
    {
     "name": "stdout",
     "output_type": "stream",
     "text": [
      "\u001b[33mOverall: 0.9554631002047712\u001b[0m\n",
      " - DICE_WT: 0.9652641201074796\n",
      " - DICE_TC: 0.9646684700683607\n",
      " - DICE_ET: 0.9364567104384738\n"
     ]
    },
    {
     "name": "stderr",
     "output_type": "stream",
     "text": [
      "20it [04:08, 12.54s/it]"
     ]
    },
    {
     "name": "stdout",
     "output_type": "stream",
     "text": [
      "\u001b[33mOverall: 0.9721355253221434\u001b[0m\n",
      " - DICE_WT: 0.9702899372067236\n",
      " - DICE_TC: 0.9804114203224096\n",
      " - DICE_ET: 0.965705218437297\n"
     ]
    },
    {
     "name": "stderr",
     "output_type": "stream",
     "text": [
      "21it [04:21, 12.67s/it]"
     ]
    },
    {
     "name": "stdout",
     "output_type": "stream",
     "text": [
      "\u001b[33mOverall: 0.8835028162633655\u001b[0m\n",
      " - DICE_WT: 0.8556409897945058\n",
      " - DICE_TC: 0.9104528430372263\n",
      " - DICE_ET: 0.8844146159583645\n"
     ]
    },
    {
     "name": "stderr",
     "output_type": "stream",
     "text": [
      "22it [04:33, 12.74s/it]"
     ]
    },
    {
     "name": "stdout",
     "output_type": "stream",
     "text": [
      "\u001b[33mOverall: 0.9563124561541764\u001b[0m\n",
      " - DICE_WT: 0.9563553644324015\n",
      " - DICE_TC: 0.9639065073413637\n",
      " - DICE_ET: 0.948675496688764\n"
     ]
    },
    {
     "name": "stderr",
     "output_type": "stream",
     "text": [
      "23it [04:46, 12.66s/it]"
     ]
    },
    {
     "name": "stdout",
     "output_type": "stream",
     "text": [
      "\u001b[33mOverall: 0.9694635802931492\u001b[0m\n",
      " - DICE_WT: 0.9727516469687838\n",
      " - DICE_TC: 0.9861325641529003\n",
      " - DICE_ET: 0.9495065297577635\n"
     ]
    },
    {
     "name": "stderr",
     "output_type": "stream",
     "text": [
      "24it [05:00, 13.20s/it]"
     ]
    },
    {
     "name": "stdout",
     "output_type": "stream",
     "text": [
      "\u001b[33mOverall: 0.9474906335156943\u001b[0m\n",
      " - DICE_WT: 0.9589329856300817\n",
      " - DICE_TC: 0.9644526510155738\n",
      " - DICE_ET: 0.9190862639014277\n"
     ]
    },
    {
     "name": "stderr",
     "output_type": "stream",
     "text": [
      "25it [05:14, 13.32s/it]"
     ]
    },
    {
     "name": "stdout",
     "output_type": "stream",
     "text": [
      "\u001b[33mOverall: 0.873013337440253\u001b[0m\n",
      " - DICE_WT: 0.7969458445533901\n",
      " - DICE_TC: 0.9198864156819822\n",
      " - DICE_ET: 0.902207752085387\n"
     ]
    },
    {
     "name": "stderr",
     "output_type": "stream",
     "text": [
      "26it [05:26, 12.83s/it]"
     ]
    },
    {
     "name": "stdout",
     "output_type": "stream",
     "text": [
      "\u001b[33mOverall: 0.9320676919396695\u001b[0m\n",
      " - DICE_WT: 0.9386864458801178\n",
      " - DICE_TC: 0.9493422727658533\n",
      " - DICE_ET: 0.9081743571730375\n"
     ]
    },
    {
     "name": "stderr",
     "output_type": "stream",
     "text": [
      "27it [05:38, 12.66s/it]"
     ]
    },
    {
     "name": "stdout",
     "output_type": "stream",
     "text": [
      "\u001b[33mOverall: 0.8866191673097674\u001b[0m\n",
      " - DICE_WT: 0.9400107869856126\n",
      " - DICE_TC: 0.9298468818356436\n",
      " - DICE_ET: 0.7899998331080458\n"
     ]
    },
    {
     "name": "stderr",
     "output_type": "stream",
     "text": [
      "28it [05:50, 12.63s/it]"
     ]
    },
    {
     "name": "stdout",
     "output_type": "stream",
     "text": [
      "\u001b[33mOverall: 0.9260872123854406\u001b[0m\n",
      " - DICE_WT: 0.9467616718068737\n",
      " - DICE_TC: 0.9443081931633316\n",
      " - DICE_ET: 0.8871917721861164\n"
     ]
    },
    {
     "name": "stderr",
     "output_type": "stream",
     "text": [
      "29it [06:02, 12.31s/it]"
     ]
    },
    {
     "name": "stdout",
     "output_type": "stream",
     "text": [
      "\u001b[33mOverall: 0.9022972421513057\u001b[0m\n",
      " - DICE_WT: 0.9429992025892443\n",
      " - DICE_TC: 0.9244699610416321\n",
      " - DICE_ET: 0.839422562823041\n"
     ]
    },
    {
     "name": "stderr",
     "output_type": "stream",
     "text": [
      "30it [06:16, 12.86s/it]"
     ]
    },
    {
     "name": "stdout",
     "output_type": "stream",
     "text": [
      "\u001b[33mOverall: 0.9443257805364708\u001b[0m\n",
      " - DICE_WT: 0.9650997590956847\n",
      " - DICE_TC: 0.961015144344538\n",
      " - DICE_ET: 0.9068624381691895\n"
     ]
    },
    {
     "name": "stderr",
     "output_type": "stream",
     "text": [
      "31it [06:29, 12.82s/it]"
     ]
    },
    {
     "name": "stdout",
     "output_type": "stream",
     "text": [
      "\u001b[33mOverall: 0.8421352480585687\u001b[0m\n",
      " - DICE_WT: 0.9175543348459756\n",
      " - DICE_TC: 0.7624652607488966\n",
      " - DICE_ET: 0.8463861485808336\n"
     ]
    },
    {
     "name": "stderr",
     "output_type": "stream",
     "text": [
      "32it [06:42, 12.80s/it]"
     ]
    },
    {
     "name": "stdout",
     "output_type": "stream",
     "text": [
      "\u001b[33mOverall: 0.9547435115201264\u001b[0m\n",
      " - DICE_WT: 0.9399307455504684\n",
      " - DICE_TC: 0.9813392660626922\n",
      " - DICE_ET: 0.9429605229472189\n"
     ]
    },
    {
     "name": "stderr",
     "output_type": "stream",
     "text": [
      "33it [06:55, 12.86s/it]"
     ]
    },
    {
     "name": "stdout",
     "output_type": "stream",
     "text": [
      "\u001b[33mOverall: 0.8335231900768401\u001b[0m\n",
      " - DICE_WT: 0.7354445169415808\n",
      " - DICE_TC: 0.9142929806715413\n",
      " - DICE_ET: 0.8508320726173979\n"
     ]
    },
    {
     "name": "stderr",
     "output_type": "stream",
     "text": [
      "34it [07:06, 12.32s/it]"
     ]
    },
    {
     "name": "stdout",
     "output_type": "stream",
     "text": [
      "\u001b[33mOverall: 0.9453951197055726\u001b[0m\n",
      " - DICE_WT: 0.9456934402958085\n",
      " - DICE_TC: 0.9529233925390325\n",
      " - DICE_ET: 0.9375685262818768\n"
     ]
    },
    {
     "name": "stderr",
     "output_type": "stream",
     "text": [
      "35it [07:19, 12.69s/it]"
     ]
    },
    {
     "name": "stdout",
     "output_type": "stream",
     "text": [
      "\u001b[33mOverall: 0.9513993586220725\u001b[0m\n",
      " - DICE_WT: 0.9771788457063103\n",
      " - DICE_TC: 0.961914613503865\n",
      " - DICE_ET: 0.9151046166560421\n"
     ]
    },
    {
     "name": "stderr",
     "output_type": "stream",
     "text": [
      "36it [07:31, 12.47s/it]"
     ]
    },
    {
     "name": "stdout",
     "output_type": "stream",
     "text": [
      "\u001b[33mOverall: 0.9662917422326412\u001b[0m\n",
      " - DICE_WT: 0.9788053949903722\n",
      " - DICE_TC: 0.9748862585008156\n",
      " - DICE_ET: 0.9451835732067362\n"
     ]
    },
    {
     "name": "stderr",
     "output_type": "stream",
     "text": [
      "37it [07:43, 12.30s/it]"
     ]
    },
    {
     "name": "stdout",
     "output_type": "stream",
     "text": [
      "\u001b[33mOverall: 0.9718974629614939\u001b[0m\n",
      " - DICE_WT: 0.9646970274044697\n",
      " - DICE_TC: 0.979708750601325\n",
      " - DICE_ET: 0.9712866108786872\n"
     ]
    },
    {
     "name": "stderr",
     "output_type": "stream",
     "text": [
      "38it [07:56, 12.39s/it]"
     ]
    },
    {
     "name": "stdout",
     "output_type": "stream",
     "text": [
      "\u001b[33mOverall: 0.9568021766931438\u001b[0m\n",
      " - DICE_WT: 0.9783321567645172\n",
      " - DICE_TC: 0.971965217391313\n",
      " - DICE_ET: 0.9201091559236013\n"
     ]
    },
    {
     "name": "stderr",
     "output_type": "stream",
     "text": [
      "39it [08:07, 11.98s/it]"
     ]
    },
    {
     "name": "stdout",
     "output_type": "stream",
     "text": [
      "\u001b[33mOverall: 0.8982762065702935\u001b[0m\n",
      " - DICE_WT: 0.9228163605405301\n",
      " - DICE_TC: 0.8679796456841783\n",
      " - DICE_ET: 0.9040326134861724\n"
     ]
    },
    {
     "name": "stderr",
     "output_type": "stream",
     "text": [
      "40it [08:20, 12.28s/it]"
     ]
    },
    {
     "name": "stdout",
     "output_type": "stream",
     "text": [
      "\u001b[33mOverall: 0.947298007608171\u001b[0m\n",
      " - DICE_WT: 0.9383893751008214\n",
      " - DICE_TC: 0.977073762194517\n",
      " - DICE_ET: 0.9264308855291745\n"
     ]
    },
    {
     "name": "stderr",
     "output_type": "stream",
     "text": [
      "41it [08:33, 12.48s/it]"
     ]
    },
    {
     "name": "stdout",
     "output_type": "stream",
     "text": [
      "\u001b[33mOverall: 0.86312452926094\u001b[0m\n",
      " - DICE_WT: 0.8552347730297941\n",
      " - DICE_TC: 0.8016430171770724\n",
      " - DICE_ET: 0.9324957975759534\n"
     ]
    },
    {
     "name": "stderr",
     "output_type": "stream",
     "text": [
      "42it [08:45, 12.41s/it]"
     ]
    },
    {
     "name": "stdout",
     "output_type": "stream",
     "text": [
      "\u001b[33mOverall: 0.9558747820004769\u001b[0m\n",
      " - DICE_WT: 0.9725056772219168\n",
      " - DICE_TC: 0.9501580286969066\n",
      " - DICE_ET: 0.9449606400826074\n"
     ]
    },
    {
     "name": "stderr",
     "output_type": "stream",
     "text": [
      "43it [08:57, 12.38s/it]"
     ]
    },
    {
     "name": "stdout",
     "output_type": "stream",
     "text": [
      "\u001b[33mOverall: 0.9696495561533652\u001b[0m\n",
      " - DICE_WT: 0.9661541985169972\n",
      " - DICE_TC: 0.9756514974718786\n",
      " - DICE_ET: 0.9671429724712198\n"
     ]
    },
    {
     "name": "stderr",
     "output_type": "stream",
     "text": [
      "44it [09:10, 12.57s/it]"
     ]
    },
    {
     "name": "stdout",
     "output_type": "stream",
     "text": [
      "\u001b[33mOverall: 0.9045710582003657\u001b[0m\n",
      " - DICE_WT: 0.9329158311020546\n",
      " - DICE_TC: 0.9390306356939452\n",
      " - DICE_ET: 0.8417667078050973\n"
     ]
    },
    {
     "name": "stderr",
     "output_type": "stream",
     "text": [
      "45it [09:23, 12.61s/it]"
     ]
    },
    {
     "name": "stdout",
     "output_type": "stream",
     "text": [
      "\u001b[33mOverall: 0.9285605667573106\u001b[0m\n",
      " - DICE_WT: 0.9418275527016227\n",
      " - DICE_TC: 0.9129457985707464\n",
      " - DICE_ET: 0.9309083489995628\n"
     ]
    },
    {
     "name": "stderr",
     "output_type": "stream",
     "text": [
      "46it [09:35, 12.40s/it]"
     ]
    },
    {
     "name": "stdout",
     "output_type": "stream",
     "text": [
      "\u001b[33mOverall: 0.9328231380411326\u001b[0m\n",
      " - DICE_WT: 0.9513603031376966\n",
      " - DICE_TC: 0.9316127761223558\n",
      " - DICE_ET: 0.9154963348633451\n"
     ]
    },
    {
     "name": "stderr",
     "output_type": "stream",
     "text": [
      "47it [09:49, 13.07s/it]"
     ]
    },
    {
     "name": "stdout",
     "output_type": "stream",
     "text": [
      "\u001b[33mOverall: 0.2550105374116692\u001b[0m\n",
      " - DICE_WT: 0.1783495665503603\n",
      " - DICE_TC: 0.5866820456839406\n",
      " - DICE_ET: 7.06713780918728e-13\n"
     ]
    },
    {
     "name": "stderr",
     "output_type": "stream",
     "text": [
      "48it [10:03, 13.19s/it]"
     ]
    },
    {
     "name": "stdout",
     "output_type": "stream",
     "text": [
      "\u001b[33mOverall: 0.8816281543978749\u001b[0m\n",
      " - DICE_WT: 0.9465825332499389\n",
      " - DICE_TC: 0.8456017557388339\n",
      " - DICE_ET: 0.852700174204852\n"
     ]
    },
    {
     "name": "stderr",
     "output_type": "stream",
     "text": [
      "49it [10:15, 12.84s/it]"
     ]
    },
    {
     "name": "stdout",
     "output_type": "stream",
     "text": [
      "\u001b[33mOverall: 0.792754388749946\u001b[0m\n",
      " - DICE_WT: 0.9429703945134829\n",
      " - DICE_TC: 0.6302916610835768\n",
      " - DICE_ET: 0.8050011106527782\n"
     ]
    },
    {
     "name": "stderr",
     "output_type": "stream",
     "text": [
      "50it [10:25, 12.14s/it]"
     ]
    },
    {
     "name": "stdout",
     "output_type": "stream",
     "text": [
      "\u001b[33mOverall: 0.916116754082823\u001b[0m\n",
      " - DICE_WT: 0.9816445607499001\n",
      " - DICE_TC: 0.9306965271866173\n",
      " - DICE_ET: 0.8360091743119514\n"
     ]
    },
    {
     "name": "stderr",
     "output_type": "stream",
     "text": [
      "51it [10:38, 12.25s/it]"
     ]
    },
    {
     "name": "stdout",
     "output_type": "stream",
     "text": [
      "\u001b[33mOverall: 0.8331045581707927\u001b[0m\n",
      " - DICE_WT: 0.8384611068509734\n",
      " - DICE_TC: 0.8652337781400632\n",
      " - DICE_ET: 0.7956187895213415\n"
     ]
    },
    {
     "name": "stderr",
     "output_type": "stream",
     "text": [
      "52it [10:51, 12.49s/it]"
     ]
    },
    {
     "name": "stdout",
     "output_type": "stream",
     "text": [
      "\u001b[33mOverall: 0.9322977457851103\u001b[0m\n",
      " - DICE_WT: 0.9650074983932047\n",
      " - DICE_TC: 0.8985929160601953\n",
      " - DICE_ET: 0.933292822901931\n"
     ]
    },
    {
     "name": "stderr",
     "output_type": "stream",
     "text": [
      "53it [11:04, 12.49s/it]"
     ]
    },
    {
     "name": "stdout",
     "output_type": "stream",
     "text": [
      "\u001b[33mOverall: 0.9225615218244961\u001b[0m\n",
      " - DICE_WT: 0.9568777868341596\n",
      " - DICE_TC: 0.9393687402032646\n",
      " - DICE_ET: 0.8714380384360647\n"
     ]
    },
    {
     "name": "stderr",
     "output_type": "stream",
     "text": [
      "54it [11:15, 12.14s/it]"
     ]
    },
    {
     "name": "stdout",
     "output_type": "stream",
     "text": [
      "\u001b[33mOverall: 0.9148262532414383\u001b[0m\n",
      " - DICE_WT: 0.9109641511498887\n",
      " - DICE_TC: 0.9346758253586274\n",
      " - DICE_ET: 0.8988387832157988\n"
     ]
    },
    {
     "name": "stderr",
     "output_type": "stream",
     "text": [
      "55it [11:26, 11.79s/it]"
     ]
    },
    {
     "name": "stdout",
     "output_type": "stream",
     "text": [
      "\u001b[33mOverall: 0.9430241668414984\u001b[0m\n",
      " - DICE_WT: 0.9664419170835479\n",
      " - DICE_TC: 0.9668421052631699\n",
      " - DICE_ET: 0.8957884781777773\n"
     ]
    },
    {
     "name": "stderr",
     "output_type": "stream",
     "text": [
      "56it [11:40, 12.54s/it]"
     ]
    },
    {
     "name": "stdout",
     "output_type": "stream",
     "text": [
      "\u001b[33mOverall: 0.9394212935707268\u001b[0m\n",
      " - DICE_WT: 0.9078530942833762\n",
      " - DICE_TC: 0.9787264251402187\n",
      " - DICE_ET: 0.9316843612885852\n"
     ]
    },
    {
     "name": "stderr",
     "output_type": "stream",
     "text": [
      "57it [11:51, 12.11s/it]"
     ]
    },
    {
     "name": "stdout",
     "output_type": "stream",
     "text": [
      "\u001b[33mOverall: 0.9705922724955922\u001b[0m\n",
      " - DICE_WT: 0.9647810712362093\n",
      " - DICE_TC: 0.9850765908832684\n",
      " - DICE_ET: 0.9619191553672988\n"
     ]
    },
    {
     "name": "stderr",
     "output_type": "stream",
     "text": [
      "58it [12:04, 12.28s/it]"
     ]
    },
    {
     "name": "stdout",
     "output_type": "stream",
     "text": [
      "\u001b[33mOverall: 0.7893754996889987\u001b[0m\n",
      " - DICE_WT: 0.9613471944986125\n",
      " - DICE_TC: 0.7132495038693942\n",
      " - DICE_ET: 0.6935298006989893\n"
     ]
    },
    {
     "name": "stderr",
     "output_type": "stream",
     "text": [
      "59it [12:17, 12.52s/it]"
     ]
    },
    {
     "name": "stdout",
     "output_type": "stream",
     "text": [
      "\u001b[33mOverall: 0.9441863528116853\u001b[0m\n",
      " - DICE_WT: 0.9643800879984497\n",
      " - DICE_TC: 0.9434570678665541\n",
      " - DICE_ET: 0.9247219025700518\n"
     ]
    },
    {
     "name": "stderr",
     "output_type": "stream",
     "text": [
      "60it [12:30, 12.56s/it]"
     ]
    },
    {
     "name": "stdout",
     "output_type": "stream",
     "text": [
      "\u001b[33mOverall: 0.8383505922592412\u001b[0m\n",
      " - DICE_WT: 0.9214204645984326\n",
      " - DICE_TC: 0.8163700844239556\n",
      " - DICE_ET: 0.7772612277553355\n"
     ]
    },
    {
     "name": "stderr",
     "output_type": "stream",
     "text": [
      "61it [12:43, 12.71s/it]"
     ]
    },
    {
     "name": "stdout",
     "output_type": "stream",
     "text": [
      "\u001b[33mOverall: 0.8836866550176491\u001b[0m\n",
      " - DICE_WT: 0.9586350803977334\n",
      " - DICE_TC: 0.7951875710497348\n",
      " - DICE_ET: 0.8972373136054792\n"
     ]
    },
    {
     "name": "stderr",
     "output_type": "stream",
     "text": [
      "62it [12:56, 12.94s/it]"
     ]
    },
    {
     "name": "stdout",
     "output_type": "stream",
     "text": [
      "\u001b[33mOverall: 0.9541069026023116\u001b[0m\n",
      " - DICE_WT: 0.9348471950139693\n",
      " - DICE_TC: 0.9633065728894454\n",
      " - DICE_ET: 0.9641669399035201\n"
     ]
    },
    {
     "name": "stderr",
     "output_type": "stream",
     "text": [
      "63it [13:10, 13.14s/it]"
     ]
    },
    {
     "name": "stdout",
     "output_type": "stream",
     "text": [
      "\u001b[33mOverall: 0.9644638336048904\u001b[0m\n",
      " - DICE_WT: 0.9514359784159989\n",
      " - DICE_TC: 0.9753080860389516\n",
      " - DICE_ET: 0.9666474363597208\n"
     ]
    },
    {
     "name": "stderr",
     "output_type": "stream",
     "text": [
      "64it [13:23, 13.03s/it]"
     ]
    },
    {
     "name": "stdout",
     "output_type": "stream",
     "text": [
      "\u001b[33mOverall: 0.9628340328187202\u001b[0m\n",
      " - DICE_WT: 0.9803374621342137\n",
      " - DICE_TC: 0.9548350758616186\n",
      " - DICE_ET: 0.9533295604603282\n"
     ]
    },
    {
     "name": "stderr",
     "output_type": "stream",
     "text": [
      "65it [13:34, 12.57s/it]"
     ]
    },
    {
     "name": "stdout",
     "output_type": "stream",
     "text": [
      "\u001b[33mOverall: 0.9281441792236352\u001b[0m\n",
      " - DICE_WT: 0.9457499730743846\n",
      " - DICE_TC: 0.9494154154781744\n",
      " - DICE_ET: 0.8892671491183468\n"
     ]
    },
    {
     "name": "stderr",
     "output_type": "stream",
     "text": [
      "66it [13:48, 12.91s/it]"
     ]
    },
    {
     "name": "stdout",
     "output_type": "stream",
     "text": [
      "\u001b[33mOverall: 0.9553794736672492\u001b[0m\n",
      " - DICE_WT: 0.9462002297298199\n",
      " - DICE_TC: 0.975361663652811\n",
      " - DICE_ET: 0.9445765276191168\n"
     ]
    },
    {
     "name": "stderr",
     "output_type": "stream",
     "text": [
      "67it [14:00, 12.80s/it]"
     ]
    },
    {
     "name": "stdout",
     "output_type": "stream",
     "text": [
      "\u001b[33mOverall: 0.9548224589225577\u001b[0m\n",
      " - DICE_WT: 0.9387536018984405\n",
      " - DICE_TC: 0.9741223307999457\n",
      " - DICE_ET: 0.9515914440692868\n"
     ]
    },
    {
     "name": "stderr",
     "output_type": "stream",
     "text": [
      "68it [14:12, 12.60s/it]"
     ]
    },
    {
     "name": "stdout",
     "output_type": "stream",
     "text": [
      "\u001b[33mOverall: 0.4202291263704381\u001b[0m\n",
      " - DICE_WT: 0.9501407098445177\n",
      " - DICE_TC: 0.1300727105896231\n",
      " - DICE_ET: 0.18047395867717342\n"
     ]
    },
    {
     "name": "stderr",
     "output_type": "stream",
     "text": [
      "69it [14:23, 11.93s/it]"
     ]
    },
    {
     "name": "stdout",
     "output_type": "stream",
     "text": [
      "\u001b[33mOverall: 0.8325075300738161\u001b[0m\n",
      " - DICE_WT: 0.9229191960070282\n",
      " - DICE_TC: 0.9229180009503749\n",
      " - DICE_ET: 0.651685393264045\n"
     ]
    },
    {
     "name": "stderr",
     "output_type": "stream",
     "text": [
      "70it [14:35, 12.12s/it]"
     ]
    },
    {
     "name": "stdout",
     "output_type": "stream",
     "text": [
      "\u001b[33mOverall: 0.7984506265604363\u001b[0m\n",
      " - DICE_WT: 0.689888616390775\n",
      " - DICE_TC: 0.8213751868464125\n",
      " - DICE_ET: 0.8840880764441214\n"
     ]
    },
    {
     "name": "stderr",
     "output_type": "stream",
     "text": [
      "71it [14:46, 11.76s/it]"
     ]
    },
    {
     "name": "stdout",
     "output_type": "stream",
     "text": [
      "\u001b[33mOverall: 0.9583813380962845\u001b[0m\n",
      " - DICE_WT: 0.958394972834984\n",
      " - DICE_TC: 0.9663955499034868\n",
      " - DICE_ET: 0.9503534915503824\n"
     ]
    },
    {
     "name": "stderr",
     "output_type": "stream",
     "text": [
      "72it [14:58, 11.66s/it]"
     ]
    },
    {
     "name": "stdout",
     "output_type": "stream",
     "text": [
      "\u001b[33mOverall: 0.9217605557277921\u001b[0m\n",
      " - DICE_WT: 0.9086638830897766\n",
      " - DICE_TC: 0.9627141859944552\n",
      " - DICE_ET: 0.8939035980991445\n"
     ]
    },
    {
     "name": "stderr",
     "output_type": "stream",
     "text": [
      "73it [15:09, 11.66s/it]"
     ]
    },
    {
     "name": "stdout",
     "output_type": "stream",
     "text": [
      "\u001b[33mOverall: 0.9499614017334528\u001b[0m\n",
      " - DICE_WT: 0.9586988718562003\n",
      " - DICE_TC: 0.954942031064581\n",
      " - DICE_ET: 0.9362433022795773\n"
     ]
    },
    {
     "name": "stderr",
     "output_type": "stream",
     "text": [
      "74it [15:20, 11.31s/it]"
     ]
    },
    {
     "name": "stdout",
     "output_type": "stream",
     "text": [
      "\u001b[33mOverall: 0.9363694426003906\u001b[0m\n",
      " - DICE_WT: 0.873429885373058\n",
      " - DICE_TC: 0.9697299948233387\n",
      " - DICE_ET: 0.9659484476047752\n"
     ]
    },
    {
     "name": "stderr",
     "output_type": "stream",
     "text": [
      "75it [15:33, 11.81s/it]"
     ]
    },
    {
     "name": "stdout",
     "output_type": "stream",
     "text": [
      "\u001b[33mOverall: 0.7742270914685814\u001b[0m\n",
      " - DICE_WT: 0.5634733364795029\n",
      " - DICE_TC: 0.9209147212959347\n",
      " - DICE_ET: 0.8382932166303064\n"
     ]
    },
    {
     "name": "stderr",
     "output_type": "stream",
     "text": [
      "76it [15:45, 11.96s/it]"
     ]
    },
    {
     "name": "stdout",
     "output_type": "stream",
     "text": [
      "\u001b[33mOverall: 0.9584159757815365\u001b[0m\n",
      " - DICE_WT: 0.9497163486333375\n",
      " - DICE_TC: 0.9712335778877667\n",
      " - DICE_ET: 0.9542980008235052\n"
     ]
    },
    {
     "name": "stderr",
     "output_type": "stream",
     "text": [
      "77it [15:58, 12.10s/it]"
     ]
    },
    {
     "name": "stdout",
     "output_type": "stream",
     "text": [
      "\u001b[33mOverall: 0.9302510103850407\u001b[0m\n",
      " - DICE_WT: 0.965464963091534\n",
      " - DICE_TC: 0.9230532629313067\n",
      " - DICE_ET: 0.9022348051322813\n"
     ]
    },
    {
     "name": "stderr",
     "output_type": "stream",
     "text": [
      "78it [16:10, 12.21s/it]"
     ]
    },
    {
     "name": "stdout",
     "output_type": "stream",
     "text": [
      "\u001b[33mOverall: 0.8112620522330117\u001b[0m\n",
      " - DICE_WT: 0.9076206446804588\n",
      " - DICE_TC: 0.7479050279330192\n",
      " - DICE_ET: 0.7782604840855573\n"
     ]
    },
    {
     "name": "stderr",
     "output_type": "stream",
     "text": [
      "79it [16:23, 12.46s/it]"
     ]
    },
    {
     "name": "stdout",
     "output_type": "stream",
     "text": [
      "\u001b[33mOverall: 0.9258186926277143\u001b[0m\n",
      " - DICE_WT: 0.9397941743716307\n",
      " - DICE_TC: 0.9405487978659242\n",
      " - DICE_ET: 0.897113105645588\n"
     ]
    },
    {
     "name": "stderr",
     "output_type": "stream",
     "text": [
      "80it [16:36, 12.51s/it]"
     ]
    },
    {
     "name": "stdout",
     "output_type": "stream",
     "text": [
      "\u001b[33mOverall: 0.9304215169046334\u001b[0m\n",
      " - DICE_WT: 0.8629412009834979\n",
      " - DICE_TC: 0.9804972627737797\n",
      " - DICE_ET: 0.9478260869566228\n"
     ]
    },
    {
     "name": "stderr",
     "output_type": "stream",
     "text": [
      "81it [16:49, 12.69s/it]"
     ]
    },
    {
     "name": "stdout",
     "output_type": "stream",
     "text": [
      "\u001b[33mOverall: 0.7878615967948425\u001b[0m\n",
      " - DICE_WT: 0.916991009058934\n",
      " - DICE_TC: 0.6933356176118726\n",
      " - DICE_ET: 0.753258163713721\n"
     ]
    },
    {
     "name": "stderr",
     "output_type": "stream",
     "text": [
      "82it [17:06, 13.90s/it]"
     ]
    },
    {
     "name": "stdout",
     "output_type": "stream",
     "text": [
      "\u001b[33mOverall: 0.798283988243239\u001b[0m\n",
      " - DICE_WT: 0.7379343294623562\n",
      " - DICE_TC: 0.817876021143729\n",
      " - DICE_ET: 0.8390416141236318\n"
     ]
    },
    {
     "name": "stderr",
     "output_type": "stream",
     "text": [
      "83it [17:19, 13.82s/it]"
     ]
    },
    {
     "name": "stdout",
     "output_type": "stream",
     "text": [
      "\u001b[33mOverall: 0.9472869761720485\u001b[0m\n",
      " - DICE_WT: 0.9614937304154862\n",
      " - DICE_TC: 0.9451381301701459\n",
      " - DICE_ET: 0.9352290679305132\n"
     ]
    },
    {
     "name": "stderr",
     "output_type": "stream",
     "text": [
      "84it [17:32, 13.49s/it]"
     ]
    },
    {
     "name": "stdout",
     "output_type": "stream",
     "text": [
      "\u001b[33mOverall: 0.5848353684857887\u001b[0m\n",
      " - DICE_WT: 0.7478923639892546\n",
      " - DICE_TC: 0.7037357149717661\n",
      " - DICE_ET: 0.3028780264963454\n"
     ]
    },
    {
     "name": "stderr",
     "output_type": "stream",
     "text": [
      "85it [17:44, 13.00s/it]"
     ]
    },
    {
     "name": "stdout",
     "output_type": "stream",
     "text": [
      "\u001b[33mOverall: 0.9155971456018298\u001b[0m\n",
      " - DICE_WT: 0.9362753059645215\n",
      " - DICE_TC: 0.909291925465851\n",
      " - DICE_ET: 0.9012242053751167\n"
     ]
    },
    {
     "name": "stderr",
     "output_type": "stream",
     "text": [
      "86it [17:55, 12.35s/it]"
     ]
    },
    {
     "name": "stdout",
     "output_type": "stream",
     "text": [
      "\u001b[33mOverall: 0.9772889495721593\u001b[0m\n",
      " - DICE_WT: 0.9769627845238729\n",
      " - DICE_TC: 0.9846341463414837\n",
      " - DICE_ET: 0.9702699178511214\n"
     ]
    },
    {
     "name": "stderr",
     "output_type": "stream",
     "text": [
      "87it [18:07, 12.41s/it]"
     ]
    },
    {
     "name": "stdout",
     "output_type": "stream",
     "text": [
      "\u001b[33mOverall: 0.39384627588381127\u001b[0m\n",
      " - DICE_WT: 0.6957583101474709\n",
      " - DICE_TC: 0.2799420432488723\n",
      " - DICE_ET: 0.20583847425509053\n"
     ]
    },
    {
     "name": "stderr",
     "output_type": "stream",
     "text": [
      "88it [18:20, 12.48s/it]"
     ]
    },
    {
     "name": "stdout",
     "output_type": "stream",
     "text": [
      "\u001b[33mOverall: 0.9509558261630054\u001b[0m\n",
      " - DICE_WT: 0.9543108574146827\n",
      " - DICE_TC: 0.9653783265006516\n",
      " - DICE_ET: 0.9331782945736822\n"
     ]
    },
    {
     "name": "stderr",
     "output_type": "stream",
     "text": [
      "89it [18:32, 12.31s/it]"
     ]
    },
    {
     "name": "stdout",
     "output_type": "stream",
     "text": [
      "\u001b[33mOverall: 0.9319642734936072\u001b[0m\n",
      " - DICE_WT: 0.8835617225100335\n",
      " - DICE_TC: 0.9574184156253964\n",
      " - DICE_ET: 0.9549126823453918\n"
     ]
    },
    {
     "name": "stderr",
     "output_type": "stream",
     "text": [
      "90it [18:44, 12.27s/it]"
     ]
    },
    {
     "name": "stdout",
     "output_type": "stream",
     "text": [
      "\u001b[33mOverall: 0.9344862799879282\u001b[0m\n",
      " - DICE_WT: 0.9029375041072648\n",
      " - DICE_TC: 0.9740466101695179\n",
      " - DICE_ET: 0.9264747256870018\n"
     ]
    },
    {
     "name": "stderr",
     "output_type": "stream",
     "text": [
      "91it [18:57, 12.47s/it]"
     ]
    },
    {
     "name": "stdout",
     "output_type": "stream",
     "text": [
      "\u001b[33mOverall: 0.9715679046089739\u001b[0m\n",
      " - DICE_WT: 0.9786842410637512\n",
      " - DICE_TC: 0.9761503521087576\n",
      " - DICE_ET: 0.959869120654413\n"
     ]
    },
    {
     "name": "stderr",
     "output_type": "stream",
     "text": [
      "92it [19:10, 12.76s/it]"
     ]
    },
    {
     "name": "stdout",
     "output_type": "stream",
     "text": [
      "\u001b[33mOverall: 0.964862769330863\u001b[0m\n",
      " - DICE_WT: 0.9673368942841623\n",
      " - DICE_TC: 0.9714851728158151\n",
      " - DICE_ET: 0.9557662408926115\n"
     ]
    },
    {
     "name": "stderr",
     "output_type": "stream",
     "text": [
      "93it [19:23, 12.66s/it]"
     ]
    },
    {
     "name": "stdout",
     "output_type": "stream",
     "text": [
      "\u001b[33mOverall: 0.5833832734280854\u001b[0m\n",
      " - DICE_WT: 0.8204070425459313\n",
      " - DICE_TC: 0.9297427777347278\n",
      " - DICE_ET: 3.5971223021582738e-12\n"
     ]
    },
    {
     "name": "stderr",
     "output_type": "stream",
     "text": [
      "94it [19:34, 12.35s/it]"
     ]
    },
    {
     "name": "stdout",
     "output_type": "stream",
     "text": [
      "\u001b[33mOverall: 0.9618583057833298\u001b[0m\n",
      " - DICE_WT: 0.9634413114519924\n",
      " - DICE_TC: 0.971661715343961\n",
      " - DICE_ET: 0.9504718905540361\n"
     ]
    },
    {
     "name": "stderr",
     "output_type": "stream",
     "text": [
      "95it [19:47, 12.58s/it]"
     ]
    },
    {
     "name": "stdout",
     "output_type": "stream",
     "text": [
      "\u001b[33mOverall: 0.9659202850656722\u001b[0m\n",
      " - DICE_WT: 0.9730823106919041\n",
      " - DICE_TC: 0.9777587459773824\n",
      " - DICE_ET: 0.94691979852773\n"
     ]
    },
    {
     "name": "stderr",
     "output_type": "stream",
     "text": [
      "96it [20:00, 12.53s/it]"
     ]
    },
    {
     "name": "stdout",
     "output_type": "stream",
     "text": [
      "\u001b[33mOverall: 0.972377325285792\u001b[0m\n",
      " - DICE_WT: 0.9622471331014083\n",
      " - DICE_TC: 0.9809024902594943\n",
      " - DICE_ET: 0.9739823524964738\n"
     ]
    },
    {
     "name": "stderr",
     "output_type": "stream",
     "text": [
      "97it [20:13, 12.83s/it]"
     ]
    },
    {
     "name": "stdout",
     "output_type": "stream",
     "text": [
      "\u001b[33mOverall: 0.9251771041412858\u001b[0m\n",
      " - DICE_WT: 0.9136114128042093\n",
      " - DICE_TC: 0.9460529056448658\n",
      " - DICE_ET: 0.9158669939747826\n"
     ]
    },
    {
     "name": "stderr",
     "output_type": "stream",
     "text": [
      "98it [20:26, 12.89s/it]"
     ]
    },
    {
     "name": "stdout",
     "output_type": "stream",
     "text": [
      "\u001b[33mOverall: 0.9009318859705818\u001b[0m\n",
      " - DICE_WT: 0.866885535354654\n",
      " - DICE_TC: 0.9601395785800648\n",
      " - DICE_ET: 0.8757705439770266\n"
     ]
    },
    {
     "name": "stderr",
     "output_type": "stream",
     "text": [
      "99it [20:38, 12.58s/it]"
     ]
    },
    {
     "name": "stdout",
     "output_type": "stream",
     "text": [
      "\u001b[33mOverall: 0.9596736726600649\u001b[0m\n",
      " - DICE_WT: 0.9582601726713088\n",
      " - DICE_TC: 0.9705066364009033\n",
      " - DICE_ET: 0.9502542089079824\n"
     ]
    },
    {
     "name": "stderr",
     "output_type": "stream",
     "text": [
      "100it [20:51, 12.63s/it]"
     ]
    },
    {
     "name": "stdout",
     "output_type": "stream",
     "text": [
      "\u001b[33mOverall: 0.940652895040423\u001b[0m\n",
      " - DICE_WT: 0.9141560487458555\n",
      " - DICE_TC: 0.9675520742167097\n",
      " - DICE_ET: 0.940250562158704\n"
     ]
    },
    {
     "name": "stderr",
     "output_type": "stream",
     "text": [
      "101it [21:04, 12.76s/it]"
     ]
    },
    {
     "name": "stdout",
     "output_type": "stream",
     "text": [
      "\u001b[33mOverall: 0.9380353948973491\u001b[0m\n",
      " - DICE_WT: 0.9529155587652891\n",
      " - DICE_TC: 0.9373101239839272\n",
      " - DICE_ET: 0.9238805019428308\n"
     ]
    },
    {
     "name": "stderr",
     "output_type": "stream",
     "text": [
      "102it [21:17, 12.75s/it]"
     ]
    },
    {
     "name": "stdout",
     "output_type": "stream",
     "text": [
      "\u001b[33mOverall: 0.9484398335703544\u001b[0m\n",
      " - DICE_WT: 0.952395025904884\n",
      " - DICE_TC: 0.9411649021600511\n",
      " - DICE_ET: 0.9517595726461281\n"
     ]
    },
    {
     "name": "stderr",
     "output_type": "stream",
     "text": [
      "103it [21:28, 12.33s/it]"
     ]
    },
    {
     "name": "stdout",
     "output_type": "stream",
     "text": [
      "\u001b[33mOverall: 0.922643961194397\u001b[0m\n",
      " - DICE_WT: 0.8605684658827979\n",
      " - DICE_TC: 0.9599011569134561\n",
      " - DICE_ET: 0.947462260786937\n"
     ]
    },
    {
     "name": "stderr",
     "output_type": "stream",
     "text": [
      "104it [21:40, 12.24s/it]"
     ]
    },
    {
     "name": "stdout",
     "output_type": "stream",
     "text": [
      "\u001b[33mOverall: 0.9542688148728984\u001b[0m\n",
      " - DICE_WT: 0.9593536258013525\n",
      " - DICE_TC: 0.9491851996995688\n",
      " - DICE_ET: 0.9542676191177737\n"
     ]
    },
    {
     "name": "stderr",
     "output_type": "stream",
     "text": [
      "105it [21:51, 11.85s/it]"
     ]
    },
    {
     "name": "stdout",
     "output_type": "stream",
     "text": [
      "\u001b[33mOverall: 0.6720172314490979\u001b[0m\n",
      " - DICE_WT: 0.8743247794461814\n",
      " - DICE_TC: 0.49648876404496056\n",
      " - DICE_ET: 0.6452381508561518\n"
     ]
    },
    {
     "name": "stderr",
     "output_type": "stream",
     "text": [
      "106it [22:03, 11.75s/it]"
     ]
    },
    {
     "name": "stdout",
     "output_type": "stream",
     "text": [
      "\u001b[33mOverall: 0.8677561433981684\u001b[0m\n",
      " - DICE_WT: 0.8845378103516917\n",
      " - DICE_TC: 0.8400174579312837\n",
      " - DICE_ET: 0.8787131619115299\n"
     ]
    },
    {
     "name": "stderr",
     "output_type": "stream",
     "text": [
      "107it [22:17, 12.57s/it]"
     ]
    },
    {
     "name": "stdout",
     "output_type": "stream",
     "text": [
      "\u001b[33mOverall: 0.8654730105177705\u001b[0m\n",
      " - DICE_WT: 0.9391268021514305\n",
      " - DICE_TC: 0.8950872459858288\n",
      " - DICE_ET: 0.7622049834160523\n"
     ]
    },
    {
     "name": "stderr",
     "output_type": "stream",
     "text": [
      "108it [22:30, 12.65s/it]"
     ]
    },
    {
     "name": "stdout",
     "output_type": "stream",
     "text": [
      "\u001b[33mOverall: 0.8800840049493819\u001b[0m\n",
      " - DICE_WT: 0.9277593778366624\n",
      " - DICE_TC: 0.9270543144596116\n",
      " - DICE_ET: 0.7854383225518715\n"
     ]
    },
    {
     "name": "stderr",
     "output_type": "stream",
     "text": [
      "109it [22:42, 12.58s/it]"
     ]
    },
    {
     "name": "stdout",
     "output_type": "stream",
     "text": [
      "\u001b[33mOverall: 0.7598222279752617\u001b[0m\n",
      " - DICE_WT: 0.8577431465185918\n",
      " - DICE_TC: 0.8533131208361647\n",
      " - DICE_ET: 0.5684104165710283\n"
     ]
    },
    {
     "name": "stderr",
     "output_type": "stream",
     "text": [
      "110it [22:59, 13.89s/it]"
     ]
    },
    {
     "name": "stdout",
     "output_type": "stream",
     "text": [
      "\u001b[33mOverall: 0.9173057886686825\u001b[0m\n",
      " - DICE_WT: 0.9736274144743775\n",
      " - DICE_TC: 0.9031913548151516\n",
      " - DICE_ET: 0.8750985967165184\n"
     ]
    },
    {
     "name": "stderr",
     "output_type": "stream",
     "text": [
      "111it [23:13, 13.76s/it]"
     ]
    },
    {
     "name": "stdout",
     "output_type": "stream",
     "text": [
      "\u001b[33mOverall: 0.7021877160545854\u001b[0m\n",
      " - DICE_WT: 0.46416961332269446\n",
      " - DICE_TC: 0.7719188767553822\n",
      " - DICE_ET: 0.8704746580856798\n"
     ]
    },
    {
     "name": "stderr",
     "output_type": "stream",
     "text": [
      "112it [23:26, 13.49s/it]"
     ]
    },
    {
     "name": "stdout",
     "output_type": "stream",
     "text": [
      "\u001b[33mOverall: 0.9640315060646891\u001b[0m\n",
      " - DICE_WT: 0.9750031270778675\n",
      " - DICE_TC: 0.9702979806468892\n",
      " - DICE_ET: 0.9467934104693105\n"
     ]
    },
    {
     "name": "stderr",
     "output_type": "stream",
     "text": [
      "113it [23:38, 13.14s/it]"
     ]
    },
    {
     "name": "stdout",
     "output_type": "stream",
     "text": [
      "\u001b[33mOverall: 0.869009518173474\u001b[0m\n",
      " - DICE_WT: 0.901147820014845\n",
      " - DICE_TC: 0.8544131028207764\n",
      " - DICE_ET: 0.851467631684801\n"
     ]
    },
    {
     "name": "stderr",
     "output_type": "stream",
     "text": [
      "114it [23:50, 12.74s/it]"
     ]
    },
    {
     "name": "stdout",
     "output_type": "stream",
     "text": [
      "\u001b[33mOverall: 0.9403067169161242\u001b[0m\n",
      " - DICE_WT: 0.9393562609024416\n",
      " - DICE_TC: 0.9649252505339385\n",
      " - DICE_ET: 0.9166386393119924\n"
     ]
    },
    {
     "name": "stderr",
     "output_type": "stream",
     "text": [
      "115it [24:02, 12.50s/it]"
     ]
    },
    {
     "name": "stdout",
     "output_type": "stream",
     "text": [
      "\u001b[33mOverall: 0.7903771097957125\u001b[0m\n",
      " - DICE_WT: 0.8974183686064554\n",
      " - DICE_TC: 0.8190683176527839\n",
      " - DICE_ET: 0.6546446431278983\n"
     ]
    },
    {
     "name": "stderr",
     "output_type": "stream",
     "text": [
      "116it [24:15, 12.62s/it]"
     ]
    },
    {
     "name": "stdout",
     "output_type": "stream",
     "text": [
      "\u001b[33mOverall: 0.8234857934992069\u001b[0m\n",
      " - DICE_WT: 0.9726032771449901\n",
      " - DICE_TC: 0.6397562833206549\n",
      " - DICE_ET: 0.8580978200319753\n"
     ]
    },
    {
     "name": "stderr",
     "output_type": "stream",
     "text": [
      "117it [24:28, 12.79s/it]"
     ]
    },
    {
     "name": "stdout",
     "output_type": "stream",
     "text": [
      "\u001b[33mOverall: 0.9623818505850142\u001b[0m\n",
      " - DICE_WT: 0.9672459172221574\n",
      " - DICE_TC: 0.9680266105492046\n",
      " - DICE_ET: 0.9518730239836809\n"
     ]
    },
    {
     "name": "stderr",
     "output_type": "stream",
     "text": [
      "118it [24:40, 12.52s/it]"
     ]
    },
    {
     "name": "stdout",
     "output_type": "stream",
     "text": [
      "\u001b[33mOverall: 0.2899340991002964\u001b[0m\n",
      " - DICE_WT: 0.6392736404906982\n",
      " - DICE_TC: 0.03276151167302979\n",
      " - DICE_ET: 0.1977671451371611\n"
     ]
    },
    {
     "name": "stderr",
     "output_type": "stream",
     "text": [
      "119it [24:53, 12.81s/it]"
     ]
    },
    {
     "name": "stdout",
     "output_type": "stream",
     "text": [
      "\u001b[33mOverall: 0.6202634990666904\u001b[0m\n",
      " - DICE_WT: 0.32553204234090927\n",
      " - DICE_TC: 0.6752529898804756\n",
      " - DICE_ET: 0.8600054649786866\n"
     ]
    },
    {
     "name": "stderr",
     "output_type": "stream",
     "text": [
      "120it [25:04, 12.18s/it]"
     ]
    },
    {
     "name": "stdout",
     "output_type": "stream",
     "text": [
      "\u001b[33mOverall: 0.9437737084954979\u001b[0m\n",
      " - DICE_WT: 0.9438662743132326\n",
      " - DICE_TC: 0.9544265154819124\n",
      " - DICE_ET: 0.9330283356913486\n"
     ]
    },
    {
     "name": "stderr",
     "output_type": "stream",
     "text": [
      "121it [25:16, 12.21s/it]"
     ]
    },
    {
     "name": "stdout",
     "output_type": "stream",
     "text": [
      "\u001b[33mOverall: 0.8385778345591963\u001b[0m\n",
      " - DICE_WT: 0.8864643518259101\n",
      " - DICE_TC: 0.8090671316486486\n",
      " - DICE_ET: 0.8202020202030303\n"
     ]
    },
    {
     "name": "stderr",
     "output_type": "stream",
     "text": [
      "122it [25:29, 12.30s/it]"
     ]
    },
    {
     "name": "stdout",
     "output_type": "stream",
     "text": [
      "\u001b[33mOverall: 0.9311477905804898\u001b[0m\n",
      " - DICE_WT: 0.9708487595584956\n",
      " - DICE_TC: 0.9496732917560538\n",
      " - DICE_ET: 0.8729213204269204\n"
     ]
    },
    {
     "name": "stderr",
     "output_type": "stream",
     "text": [
      "123it [25:41, 12.46s/it]"
     ]
    },
    {
     "name": "stdout",
     "output_type": "stream",
     "text": [
      "\u001b[33mOverall: 0.9498343944250909\u001b[0m\n",
      " - DICE_WT: 0.9366494147070085\n",
      " - DICE_TC: 0.9728314924357518\n",
      " - DICE_ET: 0.9400222761325124\n"
     ]
    },
    {
     "name": "stderr",
     "output_type": "stream",
     "text": [
      "124it [25:55, 12.64s/it]"
     ]
    },
    {
     "name": "stdout",
     "output_type": "stream",
     "text": [
      "\u001b[33mOverall: 0.9606605578054389\u001b[0m\n",
      " - DICE_WT: 0.9725193910518373\n",
      " - DICE_TC: 0.9787174357573728\n",
      " - DICE_ET: 0.9307448466071063\n"
     ]
    },
    {
     "name": "stderr",
     "output_type": "stream",
     "text": [
      "125it [26:09, 13.07s/it]"
     ]
    },
    {
     "name": "stdout",
     "output_type": "stream",
     "text": [
      "\u001b[33mOverall: 0.9519380535497812\u001b[0m\n",
      " - DICE_WT: 0.9616816034980641\n",
      " - DICE_TC: 0.9657735522904186\n",
      " - DICE_ET: 0.928359004860861\n"
     ]
    },
    {
     "name": "stderr",
     "output_type": "stream",
     "text": [
      "126it [26:21, 12.92s/it]"
     ]
    },
    {
     "name": "stdout",
     "output_type": "stream",
     "text": [
      "\u001b[33mOverall: 0.9725476831121193\u001b[0m\n",
      " - DICE_WT: 0.97337910414706\n",
      " - DICE_TC: 0.9776717728209375\n",
      " - DICE_ET: 0.96659217236836\n"
     ]
    },
    {
     "name": "stderr",
     "output_type": "stream",
     "text": [
      "127it [26:34, 12.83s/it]"
     ]
    },
    {
     "name": "stdout",
     "output_type": "stream",
     "text": [
      "\u001b[33mOverall: 0.910477108726026\u001b[0m\n",
      " - DICE_WT: 0.9709699749070043\n",
      " - DICE_TC: 0.862139534883907\n",
      " - DICE_ET: 0.8983218163871669\n"
     ]
    },
    {
     "name": "stderr",
     "output_type": "stream",
     "text": [
      "128it [26:46, 12.76s/it]"
     ]
    },
    {
     "name": "stdout",
     "output_type": "stream",
     "text": [
      "\u001b[33mOverall: 0.8906344535327687\u001b[0m\n",
      " - DICE_WT: 0.9150254647633156\n",
      " - DICE_TC: 0.866836789706394\n",
      " - DICE_ET: 0.8900411061285968\n"
     ]
    },
    {
     "name": "stderr",
     "output_type": "stream",
     "text": [
      "129it [26:57, 12.10s/it]"
     ]
    },
    {
     "name": "stdout",
     "output_type": "stream",
     "text": [
      "\u001b[33mOverall: 0.9567922998905461\u001b[0m\n",
      " - DICE_WT: 0.9639319753317604\n",
      " - DICE_TC: 0.9500477251035635\n",
      " - DICE_ET: 0.9563971992363145\n"
     ]
    },
    {
     "name": "stderr",
     "output_type": "stream",
     "text": [
      "130it [27:08, 11.81s/it]"
     ]
    },
    {
     "name": "stdout",
     "output_type": "stream",
     "text": [
      "\u001b[33mOverall: 0.934495207902979\u001b[0m\n",
      " - DICE_WT: 0.876623808320826\n",
      " - DICE_TC: 0.9800259558154601\n",
      " - DICE_ET: 0.9468358595726507\n"
     ]
    },
    {
     "name": "stderr",
     "output_type": "stream",
     "text": [
      "131it [27:21, 12.07s/it]"
     ]
    },
    {
     "name": "stdout",
     "output_type": "stream",
     "text": [
      "\u001b[33mOverall: 0.6403415265829567\u001b[0m\n",
      " - DICE_WT: 0.9282895370103019\n",
      " - DICE_TC: 0.3944444444458333\n",
      " - DICE_ET: 0.598290598292735\n"
     ]
    },
    {
     "name": "stderr",
     "output_type": "stream",
     "text": [
      "132it [27:33, 12.14s/it]"
     ]
    },
    {
     "name": "stdout",
     "output_type": "stream",
     "text": [
      "\u001b[33mOverall: 0.7999475359203746\u001b[0m\n",
      " - DICE_WT: 0.9731016376711397\n",
      " - DICE_TC: 0.657253374448876\n",
      " - DICE_ET: 0.7694875956411082\n"
     ]
    },
    {
     "name": "stderr",
     "output_type": "stream",
     "text": [
      "133it [27:45, 11.99s/it]"
     ]
    },
    {
     "name": "stdout",
     "output_type": "stream",
     "text": [
      "\u001b[33mOverall: 0.957085990596222\u001b[0m\n",
      " - DICE_WT: 0.9646090359454581\n",
      " - DICE_TC: 0.9679222511592771\n",
      " - DICE_ET: 0.9387266846839307\n"
     ]
    },
    {
     "name": "stderr",
     "output_type": "stream",
     "text": [
      "134it [27:57, 12.19s/it]"
     ]
    },
    {
     "name": "stdout",
     "output_type": "stream",
     "text": [
      "\u001b[33mOverall: 0.9209078444220001\u001b[0m\n",
      " - DICE_WT: 0.8753043754181998\n",
      " - DICE_TC: 0.9399928005759719\n",
      " - DICE_ET: 0.9474263572718286\n"
     ]
    },
    {
     "name": "stderr",
     "output_type": "stream",
     "text": [
      "135it [28:10, 12.20s/it]"
     ]
    },
    {
     "name": "stdout",
     "output_type": "stream",
     "text": [
      "\u001b[33mOverall: 0.847356321633351\u001b[0m\n",
      " - DICE_WT: 0.8183658032994868\n",
      " - DICE_TC: 0.9268882618096896\n",
      " - DICE_ET: 0.7968148997908766\n"
     ]
    },
    {
     "name": "stderr",
     "output_type": "stream",
     "text": [
      "136it [28:22, 12.31s/it]"
     ]
    },
    {
     "name": "stdout",
     "output_type": "stream",
     "text": [
      "\u001b[33mOverall: 0.8091640573170468\u001b[0m\n",
      " - DICE_WT: 0.8928595600677496\n",
      " - DICE_TC: 0.8429635594927523\n",
      " - DICE_ET: 0.6916690523906385\n"
     ]
    },
    {
     "name": "stderr",
     "output_type": "stream",
     "text": [
      "137it [28:34, 12.11s/it]"
     ]
    },
    {
     "name": "stdout",
     "output_type": "stream",
     "text": [
      "\u001b[33mOverall: 0.7370213153341013\u001b[0m\n",
      " - DICE_WT: 0.9727992723334131\n",
      " - DICE_TC: 0.31306812378716425\n",
      " - DICE_ET: 0.9251965498817266\n"
     ]
    },
    {
     "name": "stderr",
     "output_type": "stream",
     "text": [
      "138it [28:47, 12.28s/it]"
     ]
    },
    {
     "name": "stdout",
     "output_type": "stream",
     "text": [
      "\u001b[33mOverall: 0.9153917911881981\u001b[0m\n",
      " - DICE_WT: 0.9515301502988169\n",
      " - DICE_TC: 0.9180294770846962\n",
      " - DICE_ET: 0.8766157461810812\n"
     ]
    },
    {
     "name": "stderr",
     "output_type": "stream",
     "text": [
      "139it [28:59, 12.23s/it]"
     ]
    },
    {
     "name": "stdout",
     "output_type": "stream",
     "text": [
      "\u001b[33mOverall: 0.914099606307296\u001b[0m\n",
      " - DICE_WT: 0.9404862999291078\n",
      " - DICE_TC: 0.9009409659137402\n",
      " - DICE_ET: 0.9008715530790399\n"
     ]
    },
    {
     "name": "stderr",
     "output_type": "stream",
     "text": [
      "140it [29:09, 11.66s/it]"
     ]
    },
    {
     "name": "stdout",
     "output_type": "stream",
     "text": [
      "\u001b[33mOverall: 0.6314841082287886\u001b[0m\n",
      " - DICE_WT: 0.9132491405696117\n",
      " - DICE_TC: 0.8217220700377766\n",
      " - DICE_ET: 0.1594811140789775\n"
     ]
    },
    {
     "name": "stderr",
     "output_type": "stream",
     "text": [
      "141it [29:21, 11.68s/it]"
     ]
    },
    {
     "name": "stdout",
     "output_type": "stream",
     "text": [
      "\u001b[33mOverall: 0.9014192664750724\u001b[0m\n",
      " - DICE_WT: 0.8921447581419687\n",
      " - DICE_TC: 0.9297589783124263\n",
      " - DICE_ET: 0.8823540629708221\n"
     ]
    },
    {
     "name": "stderr",
     "output_type": "stream",
     "text": [
      "142it [29:31, 11.38s/it]"
     ]
    },
    {
     "name": "stdout",
     "output_type": "stream",
     "text": [
      "\u001b[33mOverall: 0.7909082987666501\u001b[0m\n",
      " - DICE_WT: 0.9087154626424356\n",
      " - DICE_TC: 0.7748393192744292\n",
      " - DICE_ET: 0.689170114383086\n"
     ]
    },
    {
     "name": "stderr",
     "output_type": "stream",
     "text": [
      "143it [29:44, 11.88s/it]"
     ]
    },
    {
     "name": "stdout",
     "output_type": "stream",
     "text": [
      "\u001b[33mOverall: 0.8767587678703396\u001b[0m\n",
      " - DICE_WT: 0.8648408147122925\n",
      " - DICE_TC: 0.8894006064613437\n",
      " - DICE_ET: 0.8760348824373827\n"
     ]
    },
    {
     "name": "stderr",
     "output_type": "stream",
     "text": [
      "144it [29:57, 12.21s/it]"
     ]
    },
    {
     "name": "stdout",
     "output_type": "stream",
     "text": [
      "\u001b[33mOverall: 0.8045207873252275\u001b[0m\n",
      " - DICE_WT: 0.9487216398059833\n",
      " - DICE_TC: 0.795521440526404\n",
      " - DICE_ET: 0.669319281643295\n"
     ]
    },
    {
     "name": "stderr",
     "output_type": "stream",
     "text": [
      "145it [30:16, 14.01s/it]"
     ]
    },
    {
     "name": "stdout",
     "output_type": "stream",
     "text": [
      "\u001b[33mOverall: 0.9457377864343703\u001b[0m\n",
      " - DICE_WT: 0.9599171062106006\n",
      " - DICE_TC: 0.9623890234059873\n",
      " - DICE_ET: 0.914907229686523\n"
     ]
    },
    {
     "name": "stderr",
     "output_type": "stream",
     "text": [
      "146it [30:28, 13.43s/it]"
     ]
    },
    {
     "name": "stdout",
     "output_type": "stream",
     "text": [
      "\u001b[33mOverall: 0.9300374982687541\u001b[0m\n",
      " - DICE_WT: 0.9418659317500284\n",
      " - DICE_TC: 0.930228576320549\n",
      " - DICE_ET: 0.9180179867356852\n"
     ]
    },
    {
     "name": "stderr",
     "output_type": "stream",
     "text": [
      "147it [30:41, 13.28s/it]"
     ]
    },
    {
     "name": "stdout",
     "output_type": "stream",
     "text": [
      "\u001b[33mOverall: 0.4465839507477338\u001b[0m\n",
      " - DICE_WT: 0.8793529386381316\n",
      " - DICE_TC: 0.17340788929746961\n",
      " - DICE_ET: 0.2869910243076005\n"
     ]
    },
    {
     "name": "stderr",
     "output_type": "stream",
     "text": [
      "148it [30:51, 12.43s/it]"
     ]
    },
    {
     "name": "stdout",
     "output_type": "stream",
     "text": [
      "\u001b[33mOverall: 0.6581863780379447\u001b[0m\n",
      " - DICE_WT: 0.8991378209485246\n",
      " - DICE_TC: 0.5271648606666479\n",
      " - DICE_ET: 0.5482564524986615\n"
     ]
    },
    {
     "name": "stderr",
     "output_type": "stream",
     "text": [
      "149it [31:05, 12.77s/it]"
     ]
    },
    {
     "name": "stdout",
     "output_type": "stream",
     "text": [
      "\u001b[33mOverall: 0.9626315350232361\u001b[0m\n",
      " - DICE_WT: 0.9527664528728671\n",
      " - DICE_TC: 0.9844101437082654\n",
      " - DICE_ET: 0.9507180084885756\n"
     ]
    },
    {
     "name": "stderr",
     "output_type": "stream",
     "text": [
      "150it [31:17, 12.73s/it]"
     ]
    },
    {
     "name": "stdout",
     "output_type": "stream",
     "text": [
      "\u001b[33mOverall: 0.9121810708160026\u001b[0m\n",
      " - DICE_WT: 0.9672199131885292\n",
      " - DICE_TC: 0.8841066846993875\n",
      " - DICE_ET: 0.8852166145600908\n"
     ]
    },
    {
     "name": "stderr",
     "output_type": "stream",
     "text": [
      "151it [31:30, 12.70s/it]"
     ]
    },
    {
     "name": "stdout",
     "output_type": "stream",
     "text": [
      "\u001b[33mOverall: 0.977055729884972\u001b[0m\n",
      " - DICE_WT: 0.9766577920871876\n",
      " - DICE_TC: 0.9831561190062494\n",
      " - DICE_ET: 0.9713532785614788\n"
     ]
    },
    {
     "name": "stderr",
     "output_type": "stream",
     "text": [
      "152it [31:41, 12.13s/it]"
     ]
    },
    {
     "name": "stdout",
     "output_type": "stream",
     "text": [
      "\u001b[33mOverall: 0.965092318146767\u001b[0m\n",
      " - DICE_WT: 0.9625860404650962\n",
      " - DICE_TC: 0.9840011829070088\n",
      " - DICE_ET: 0.9486897310681959\n"
     ]
    },
    {
     "name": "stderr",
     "output_type": "stream",
     "text": [
      "153it [31:57, 13.34s/it]"
     ]
    },
    {
     "name": "stdout",
     "output_type": "stream",
     "text": [
      "\u001b[33mOverall: 0.4615093936322021\u001b[0m\n",
      " - DICE_WT: 0.16454173682945433\n",
      " - DICE_TC: 0.7636106051407611\n",
      " - DICE_ET: 0.456375838926391\n"
     ]
    },
    {
     "name": "stderr",
     "output_type": "stream",
     "text": [
      "154it [32:11, 13.60s/it]"
     ]
    },
    {
     "name": "stdout",
     "output_type": "stream",
     "text": [
      "\u001b[33mOverall: 0.9464397641151207\u001b[0m\n",
      " - DICE_WT: 0.9633854645814198\n",
      " - DICE_TC: 0.958360694381312\n",
      " - DICE_ET: 0.9175731333826302\n"
     ]
    },
    {
     "name": "stderr",
     "output_type": "stream",
     "text": [
      "155it [32:24, 13.49s/it]"
     ]
    },
    {
     "name": "stdout",
     "output_type": "stream",
     "text": [
      "\u001b[33mOverall: 0.9131341192769978\u001b[0m\n",
      " - DICE_WT: 0.8924320430583695\n",
      " - DICE_TC: 0.9429173784616144\n",
      " - DICE_ET: 0.9040529363110092\n"
     ]
    },
    {
     "name": "stderr",
     "output_type": "stream",
     "text": [
      "156it [32:37, 13.31s/it]"
     ]
    },
    {
     "name": "stdout",
     "output_type": "stream",
     "text": [
      "\u001b[33mOverall: 0.6926361759878251\u001b[0m\n",
      " - DICE_WT: 0.6953618924179131\n",
      " - DICE_TC: 0.5982772905179627\n",
      " - DICE_ET: 0.7842693450275994\n"
     ]
    },
    {
     "name": "stderr",
     "output_type": "stream",
     "text": [
      "157it [32:50, 13.12s/it]"
     ]
    },
    {
     "name": "stdout",
     "output_type": "stream",
     "text": [
      "\u001b[33mOverall: 0.9598607569546934\u001b[0m\n",
      " - DICE_WT: 0.9724677638602038\n",
      " - DICE_TC: 0.9734305315157231\n",
      " - DICE_ET: 0.9336839754881533\n"
     ]
    },
    {
     "name": "stderr",
     "output_type": "stream",
     "text": [
      "158it [33:01, 12.67s/it]"
     ]
    },
    {
     "name": "stdout",
     "output_type": "stream",
     "text": [
      "\u001b[33mOverall: 0.8393377378714004\u001b[0m\n",
      " - DICE_WT: 0.6306612800340741\n",
      " - DICE_TC: 0.9504637852774819\n",
      " - DICE_ET: 0.9368881483026453\n"
     ]
    },
    {
     "name": "stderr",
     "output_type": "stream",
     "text": [
      "159it [33:13, 12.20s/it]"
     ]
    },
    {
     "name": "stdout",
     "output_type": "stream",
     "text": [
      "\u001b[33mOverall: 0.9743815797167299\u001b[0m\n",
      " - DICE_WT: 0.9767933453996848\n",
      " - DICE_TC: 0.9760686055683371\n",
      " - DICE_ET: 0.9702827881821678\n"
     ]
    },
    {
     "name": "stderr",
     "output_type": "stream",
     "text": [
      "160it [33:26, 12.59s/it]"
     ]
    },
    {
     "name": "stdout",
     "output_type": "stream",
     "text": [
      "\u001b[33mOverall: 0.9704853381644586\u001b[0m\n",
      " - DICE_WT: 0.9798903666152626\n",
      " - DICE_TC: 0.9780793613524348\n",
      " - DICE_ET: 0.9534862865256782\n"
     ]
    },
    {
     "name": "stderr",
     "output_type": "stream",
     "text": [
      "161it [33:41, 13.15s/it]"
     ]
    },
    {
     "name": "stdout",
     "output_type": "stream",
     "text": [
      "\u001b[33mOverall: 0.9545605667468298\u001b[0m\n",
      " - DICE_WT: 0.9678403034752566\n",
      " - DICE_TC: 0.9772175793923941\n",
      " - DICE_ET: 0.9186238173728385\n"
     ]
    },
    {
     "name": "stderr",
     "output_type": "stream",
     "text": [
      "162it [33:52, 12.79s/it]"
     ]
    },
    {
     "name": "stdout",
     "output_type": "stream",
     "text": [
      "\u001b[33mOverall: 0.9609780286677362\u001b[0m\n",
      " - DICE_WT: 0.9737213522414192\n",
      " - DICE_TC: 0.9642306195124206\n",
      " - DICE_ET: 0.944982114249369\n"
     ]
    },
    {
     "name": "stderr",
     "output_type": "stream",
     "text": [
      "163it [34:05, 12.73s/it]"
     ]
    },
    {
     "name": "stdout",
     "output_type": "stream",
     "text": [
      "\u001b[33mOverall: 0.9387759738295477\u001b[0m\n",
      " - DICE_WT: 0.9617073214510113\n",
      " - DICE_TC: 0.9581678946987271\n",
      " - DICE_ET: 0.8964527053389048\n"
     ]
    },
    {
     "name": "stderr",
     "output_type": "stream",
     "text": [
      "164it [34:17, 12.49s/it]"
     ]
    },
    {
     "name": "stdout",
     "output_type": "stream",
     "text": [
      "\u001b[33mOverall: 0.9359470471396095\u001b[0m\n",
      " - DICE_WT: 0.9529000578012877\n",
      " - DICE_TC: 0.936776320307685\n",
      " - DICE_ET: 0.9181647633098555\n"
     ]
    },
    {
     "name": "stderr",
     "output_type": "stream",
     "text": [
      "165it [34:30, 12.51s/it]"
     ]
    },
    {
     "name": "stdout",
     "output_type": "stream",
     "text": [
      "\u001b[33mOverall: 0.9623833682739859\u001b[0m\n",
      " - DICE_WT: 0.9744644669354647\n",
      " - DICE_TC: 0.9699324809653856\n",
      " - DICE_ET: 0.9427531569211072\n"
     ]
    },
    {
     "name": "stderr",
     "output_type": "stream",
     "text": [
      "166it [34:43, 12.77s/it]"
     ]
    },
    {
     "name": "stdout",
     "output_type": "stream",
     "text": [
      "\u001b[33mOverall: 0.9291032547010697\u001b[0m\n",
      " - DICE_WT: 0.9410719277926484\n",
      " - DICE_TC: 0.9568375038722421\n",
      " - DICE_ET: 0.8894003324383188\n"
     ]
    },
    {
     "name": "stderr",
     "output_type": "stream",
     "text": [
      "167it [34:55, 12.42s/it]"
     ]
    },
    {
     "name": "stdout",
     "output_type": "stream",
     "text": [
      "\u001b[33mOverall: 0.9327332693816461\u001b[0m\n",
      " - DICE_WT: 0.8626709467481689\n",
      " - DICE_TC: 0.9700779904507345\n",
      " - DICE_ET: 0.965450870946035\n"
     ]
    },
    {
     "name": "stderr",
     "output_type": "stream",
     "text": [
      "168it [35:09, 13.13s/it]"
     ]
    },
    {
     "name": "stdout",
     "output_type": "stream",
     "text": [
      "\u001b[33mOverall: 0.927917085723866\u001b[0m\n",
      " - DICE_WT: 0.9294316346012997\n",
      " - DICE_TC: 0.9370651157960848\n",
      " - DICE_ET: 0.9172545067742134\n"
     ]
    },
    {
     "name": "stderr",
     "output_type": "stream",
     "text": [
      "169it [35:23, 13.29s/it]"
     ]
    },
    {
     "name": "stdout",
     "output_type": "stream",
     "text": [
      "\u001b[33mOverall: 0.9385356329009383\u001b[0m\n",
      " - DICE_WT: 0.9586364484238074\n",
      " - DICE_TC: 0.9431008779195379\n",
      " - DICE_ET: 0.91386957235947\n"
     ]
    },
    {
     "name": "stderr",
     "output_type": "stream",
     "text": [
      "170it [35:34, 12.74s/it]"
     ]
    },
    {
     "name": "stdout",
     "output_type": "stream",
     "text": [
      "\u001b[33mOverall: 0.8737793796767277\u001b[0m\n",
      " - DICE_WT: 0.8288380603842695\n",
      " - DICE_TC: 0.9113687359760865\n",
      " - DICE_ET: 0.881131342669827\n"
     ]
    },
    {
     "name": "stderr",
     "output_type": "stream",
     "text": [
      "171it [35:48, 13.00s/it]"
     ]
    },
    {
     "name": "stdout",
     "output_type": "stream",
     "text": [
      "\u001b[33mOverall: 0.9130738471134339\u001b[0m\n",
      " - DICE_WT: 0.9458826597723075\n",
      " - DICE_TC: 0.9045157514873834\n",
      " - DICE_ET: 0.8888231300806105\n"
     ]
    },
    {
     "name": "stderr",
     "output_type": "stream",
     "text": [
      "172it [36:01, 13.13s/it]"
     ]
    },
    {
     "name": "stdout",
     "output_type": "stream",
     "text": [
      "\u001b[33mOverall: 0.9368576044712046\u001b[0m\n",
      " - DICE_WT: 0.9292457564180688\n",
      " - DICE_TC: 0.9573948861428615\n",
      " - DICE_ET: 0.9239321708526835\n"
     ]
    },
    {
     "name": "stderr",
     "output_type": "stream",
     "text": [
      "173it [36:14, 12.86s/it]"
     ]
    },
    {
     "name": "stdout",
     "output_type": "stream",
     "text": [
      "\u001b[33mOverall: 0.9063809520759177\u001b[0m\n",
      " - DICE_WT: 0.9551054787702477\n",
      " - DICE_TC: 0.9060820438467241\n",
      " - DICE_ET: 0.8579553336107816\n"
     ]
    },
    {
     "name": "stderr",
     "output_type": "stream",
     "text": [
      "174it [36:29, 13.56s/it]"
     ]
    },
    {
     "name": "stdout",
     "output_type": "stream",
     "text": [
      "\u001b[33mOverall: 0.9476449599350332\u001b[0m\n",
      " - DICE_WT: 0.9129048660602669\n",
      " - DICE_TC: 0.9742405400604903\n",
      " - DICE_ET: 0.9557894736843422\n"
     ]
    },
    {
     "name": "stderr",
     "output_type": "stream",
     "text": [
      "175it [36:41, 13.04s/it]"
     ]
    },
    {
     "name": "stdout",
     "output_type": "stream",
     "text": [
      "\u001b[33mOverall: 0.9620910425016067\u001b[0m\n",
      " - DICE_WT: 0.9626589694492926\n",
      " - DICE_TC: 0.9773875769314058\n",
      " - DICE_ET: 0.946226581124122\n"
     ]
    },
    {
     "name": "stderr",
     "output_type": "stream",
     "text": [
      "176it [36:52, 12.63s/it]"
     ]
    },
    {
     "name": "stdout",
     "output_type": "stream",
     "text": [
      "\u001b[33mOverall: 0.9716354592257502\u001b[0m\n",
      " - DICE_WT: 0.9703656198664583\n",
      " - DICE_TC: 0.9766103119812554\n",
      " - DICE_ET: 0.9679304458295367\n"
     ]
    },
    {
     "name": "stderr",
     "output_type": "stream",
     "text": [
      "177it [37:02, 11.82s/it]"
     ]
    },
    {
     "name": "stdout",
     "output_type": "stream",
     "text": [
      "\u001b[33mOverall: 0.8730401130782828\u001b[0m\n",
      " - DICE_WT: 0.9099736402003182\n",
      " - DICE_TC: 0.8373716447487015\n",
      " - DICE_ET: 0.8717750542858287\n"
     ]
    },
    {
     "name": "stderr",
     "output_type": "stream",
     "text": [
      "178it [37:18, 12.97s/it]"
     ]
    },
    {
     "name": "stdout",
     "output_type": "stream",
     "text": [
      "\u001b[33mOverall: 0.8913524647418897\u001b[0m\n",
      " - DICE_WT: 0.9655206892529238\n",
      " - DICE_TC: 0.9727060247635423\n",
      " - DICE_ET: 0.7358306802092026\n"
     ]
    },
    {
     "name": "stderr",
     "output_type": "stream",
     "text": [
      "179it [37:31, 12.90s/it]"
     ]
    },
    {
     "name": "stdout",
     "output_type": "stream",
     "text": [
      "\u001b[33mOverall: 0.8428623673926258\u001b[0m\n",
      " - DICE_WT: 0.8872012894990319\n",
      " - DICE_TC: 0.8823529411764973\n",
      " - DICE_ET: 0.759032871502348\n"
     ]
    },
    {
     "name": "stderr",
     "output_type": "stream",
     "text": [
      "180it [37:41, 12.14s/it]"
     ]
    },
    {
     "name": "stdout",
     "output_type": "stream",
     "text": [
      "\u001b[33mOverall: 0.9097615521882746\u001b[0m\n",
      " - DICE_WT: 0.9609650889958097\n",
      " - DICE_TC: 0.8824053209275369\n",
      " - DICE_ET: 0.8859142466414769\n"
     ]
    },
    {
     "name": "stderr",
     "output_type": "stream",
     "text": [
      "181it [37:53, 12.11s/it]"
     ]
    },
    {
     "name": "stdout",
     "output_type": "stream",
     "text": [
      "\u001b[33mOverall: 0.77730328283702\u001b[0m\n",
      " - DICE_WT: 0.5443730044176618\n",
      " - DICE_TC: 0.8999287749289531\n",
      " - DICE_ET: 0.8876080691644453\n"
     ]
    },
    {
     "name": "stderr",
     "output_type": "stream",
     "text": [
      "182it [38:05, 12.14s/it]"
     ]
    },
    {
     "name": "stdout",
     "output_type": "stream",
     "text": [
      "\u001b[33mOverall: 0.9803175232920873\u001b[0m\n",
      " - DICE_WT: 0.9827254199170777\n",
      " - DICE_TC: 0.9840980873837626\n",
      " - DICE_ET: 0.974129062575422\n"
     ]
    },
    {
     "name": "stderr",
     "output_type": "stream",
     "text": [
      "183it [38:19, 12.59s/it]"
     ]
    },
    {
     "name": "stdout",
     "output_type": "stream",
     "text": [
      "\u001b[33mOverall: 0.972402970820248\u001b[0m\n",
      " - DICE_WT: 0.972309948479144\n",
      " - DICE_TC: 0.9836412673606861\n",
      " - DICE_ET: 0.9612576966209135\n"
     ]
    },
    {
     "name": "stderr",
     "output_type": "stream",
     "text": [
      "184it [38:32, 12.69s/it]"
     ]
    },
    {
     "name": "stdout",
     "output_type": "stream",
     "text": [
      "\u001b[33mOverall: 0.8251363210433457\u001b[0m\n",
      " - DICE_WT: 0.8134194649277865\n",
      " - DICE_TC: 0.819625790819794\n",
      " - DICE_ET: 0.8423637073824564\n"
     ]
    },
    {
     "name": "stderr",
     "output_type": "stream",
     "text": [
      "185it [38:44, 12.48s/it]"
     ]
    },
    {
     "name": "stdout",
     "output_type": "stream",
     "text": [
      "\u001b[33mOverall: 0.9466608234736601\u001b[0m\n",
      " - DICE_WT: 0.9500793790792075\n",
      " - DICE_TC: 0.9691169328343381\n",
      " - DICE_ET: 0.920786158507435\n"
     ]
    },
    {
     "name": "stderr",
     "output_type": "stream",
     "text": [
      "186it [38:57, 12.81s/it]"
     ]
    },
    {
     "name": "stdout",
     "output_type": "stream",
     "text": [
      "\u001b[33mOverall: 0.52097327282063\u001b[0m\n",
      " - DICE_WT: 0.9399672962064612\n",
      " - DICE_TC: 0.6229525222552004\n",
      " - DICE_ET: 2.2851919561243144e-13\n"
     ]
    },
    {
     "name": "stderr",
     "output_type": "stream",
     "text": [
      "187it [39:09, 12.45s/it]"
     ]
    },
    {
     "name": "stdout",
     "output_type": "stream",
     "text": [
      "\u001b[33mOverall: 0.9692638958280834\u001b[0m\n",
      " - DICE_WT: 0.9765953223055491\n",
      " - DICE_TC: 0.9607994510207797\n",
      " - DICE_ET: 0.9703969141579211\n"
     ]
    },
    {
     "name": "stderr",
     "output_type": "stream",
     "text": [
      "188it [39:22, 12.57s/it]"
     ]
    },
    {
     "name": "stdout",
     "output_type": "stream",
     "text": [
      "\u001b[33mOverall: 0.9585284745752057\u001b[0m\n",
      " - DICE_WT: 0.9449881999963471\n",
      " - DICE_TC: 0.9763912922470142\n",
      " - DICE_ET: 0.954205931482256\n"
     ]
    },
    {
     "name": "stderr",
     "output_type": "stream",
     "text": [
      "189it [39:34, 12.39s/it]"
     ]
    },
    {
     "name": "stdout",
     "output_type": "stream",
     "text": [
      "\u001b[33mOverall: 0.8759593006764579\u001b[0m\n",
      " - DICE_WT: 0.8953911241832032\n",
      " - DICE_TC: 0.9141169521559558\n",
      " - DICE_ET: 0.8183698256902143\n"
     ]
    },
    {
     "name": "stderr",
     "output_type": "stream",
     "text": [
      "190it [39:46, 12.30s/it]"
     ]
    },
    {
     "name": "stdout",
     "output_type": "stream",
     "text": [
      "\u001b[33mOverall: 0.8360666605363017\u001b[0m\n",
      " - DICE_WT: 0.9269611871792119\n",
      " - DICE_TC: 0.728397952175821\n",
      " - DICE_ET: 0.852840842253872\n"
     ]
    },
    {
     "name": "stderr",
     "output_type": "stream",
     "text": [
      "191it [39:58, 12.21s/it]"
     ]
    },
    {
     "name": "stdout",
     "output_type": "stream",
     "text": [
      "\u001b[33mOverall: 0.9364599782673451\u001b[0m\n",
      " - DICE_WT: 0.9532621990321511\n",
      " - DICE_TC: 0.9258634350967234\n",
      " - DICE_ET: 0.9302543006731606\n"
     ]
    },
    {
     "name": "stderr",
     "output_type": "stream",
     "text": [
      "192it [40:11, 12.55s/it]"
     ]
    },
    {
     "name": "stdout",
     "output_type": "stream",
     "text": [
      "\u001b[33mOverall: 0.9176899535704063\u001b[0m\n",
      " - DICE_WT: 0.9014555185692904\n",
      " - DICE_TC: 0.9443452322546559\n",
      " - DICE_ET: 0.9072691098872725\n"
     ]
    },
    {
     "name": "stderr",
     "output_type": "stream",
     "text": [
      "193it [40:25, 12.85s/it]"
     ]
    },
    {
     "name": "stdout",
     "output_type": "stream",
     "text": [
      "\u001b[33mOverall: 0.7919280634512035\u001b[0m\n",
      " - DICE_WT: 0.9609950032382089\n",
      " - DICE_TC: 0.9066803633912341\n",
      " - DICE_ET: 0.5081088237241677\n"
     ]
    },
    {
     "name": "stderr",
     "output_type": "stream",
     "text": [
      "194it [40:37, 12.56s/it]"
     ]
    },
    {
     "name": "stdout",
     "output_type": "stream",
     "text": [
      "\u001b[33mOverall: 0.9067967523528244\u001b[0m\n",
      " - DICE_WT: 0.9518734457609804\n",
      " - DICE_TC: 0.8661653779764135\n",
      " - DICE_ET: 0.9023514333210791\n"
     ]
    },
    {
     "name": "stderr",
     "output_type": "stream",
     "text": [
      "195it [40:50, 12.64s/it]"
     ]
    },
    {
     "name": "stdout",
     "output_type": "stream",
     "text": [
      "\u001b[33mOverall: 0.940743105254719\u001b[0m\n",
      " - DICE_WT: 0.9524827157708984\n",
      " - DICE_TC: 0.9722866116565613\n",
      " - DICE_ET: 0.8974599883366973\n"
     ]
    },
    {
     "name": "stderr",
     "output_type": "stream",
     "text": [
      "196it [41:02, 12.48s/it]"
     ]
    },
    {
     "name": "stdout",
     "output_type": "stream",
     "text": [
      "\u001b[33mOverall: 0.802087610645892\u001b[0m\n",
      " - DICE_WT: 0.9429484253765473\n",
      " - DICE_TC: 0.6977620730271243\n",
      " - DICE_ET: 0.7655523335340045\n"
     ]
    },
    {
     "name": "stderr",
     "output_type": "stream",
     "text": [
      "197it [41:18, 13.57s/it]"
     ]
    },
    {
     "name": "stdout",
     "output_type": "stream",
     "text": [
      "\u001b[33mOverall: 0.9174643730019633\u001b[0m\n",
      " - DICE_WT: 0.934120205000792\n",
      " - DICE_TC: 0.9161744896902221\n",
      " - DICE_ET: 0.9020984243148756\n"
     ]
    },
    {
     "name": "stderr",
     "output_type": "stream",
     "text": [
      "198it [41:29, 12.78s/it]"
     ]
    },
    {
     "name": "stdout",
     "output_type": "stream",
     "text": [
      "\u001b[33mOverall: 0.5407528192821823\u001b[0m\n",
      " - DICE_WT: 0.9696818982488884\n",
      " - DICE_TC: 0.6356100538201243\n",
      " - DICE_ET: 0.016966505777534006\n"
     ]
    },
    {
     "name": "stderr",
     "output_type": "stream",
     "text": [
      "199it [41:42, 12.99s/it]"
     ]
    },
    {
     "name": "stdout",
     "output_type": "stream",
     "text": [
      "\u001b[33mOverall: 0.9370628558837675\u001b[0m\n",
      " - DICE_WT: 0.9535411415810409\n",
      " - DICE_TC: 0.9213027676824198\n",
      " - DICE_ET: 0.9363446583878415\n"
     ]
    },
    {
     "name": "stderr",
     "output_type": "stream",
     "text": [
      "200it [41:55, 12.58s/it]\n"
     ]
    },
    {
     "name": "stdout",
     "output_type": "stream",
     "text": [
      "writing scores to file\n",
      "Averages: overall: 0.8796079065339057, WT: 0.9088007892891742, TC: 0.8827405301364951, ET: 0.8472824001760482, WT_area: 63206.695, TC_area: 22442.41, ET_area: 13869.525\n"
     ]
    }
   ],
   "source": [
    "import torch\n",
    "import torch.nn as nn\n",
    "import torch.nn.functional as F\n",
    "import os\n",
    "import numpy as np\n",
    "import matplotlib.pyplot as plt\n",
    "import nibabel as nib\n",
    "from tqdm import tqdm\n",
    "from pathlib import Path\n",
    "from skimage import measure\n",
    "import scipy.ndimage\n",
    "\n",
    "from loss import DiceLoss, dice_coef_metric\n",
    "from model import Model\n",
    "\n",
    "def get_bbox(img):\n",
    "    r = np.any(img, axis=(1, 2))\n",
    "    c = np.any(img, axis=(0, 2))\n",
    "    z = np.any(img, axis=(0, 1))\n",
    "\n",
    "    rmin, rmax = np.where(r)[0][[0, -1]]\n",
    "    cmin, cmax = np.where(c)[0][[0, -1]]\n",
    "    zmin, zmax = np.where(z)[0][[0, -1]]\n",
    "\n",
    "    return rmin, rmax, cmin, cmax, zmin, zmax\n",
    "\n",
    "\n",
    "def get_padded_bbox(labels, padding=0.1):\n",
    "    xmin0, xmax0, ymin0, ymax0, zmin0, zmax0 = get_bbox(labels[0])\n",
    "    xmin1, xmax1, ymin1, ymax1, zmin1, zmax1 = get_bbox(labels[1])\n",
    "    xmin2, xmax2, ymin2, ymax2, zmin2, zmax2 = get_bbox(labels[2])\n",
    "    \n",
    "    xmin = min(xmin0, xmin1, xmin2)\n",
    "    ymin = min(ymin0, ymin1, ymin2)\n",
    "    zmin = min(zmin0, zmin1, zmin2)\n",
    "    xmax = max(xmax0, xmax1, xmax2)\n",
    "    ymax = max(ymax0, ymax1, ymax2)\n",
    "    zmax = max(zmax0, zmax1, zmax2)\n",
    "\n",
    "    cropped = labels[xmin:xmax, ymin:ymax, zmin:zmax]\n",
    "\n",
    "    # make cuboid\n",
    "    longest_axis = np.argmax(cropped.shape)\n",
    "    length = max(cropped.shape)\n",
    "    bbox = [xmin, ymin, zmin, xmax, ymax, zmax]\n",
    "    cubebox = []\n",
    "    for i in range(3):\n",
    "        start = bbox[i]\n",
    "        end = bbox[i+3]\n",
    "        padstart = round((length - (end - start)) / 2)\n",
    "        padend = (length - (end - start)) // 2\n",
    "        cubebox.append(start - padstart)\n",
    "        cubebox.append(end + padend)\n",
    "    xmin, xmax, ymin, ymax, zmin, zmax = cubebox\n",
    "\n",
    "    # add padding\n",
    "    xmin -= round(padding * length)\n",
    "    ymin -= round(padding * length)\n",
    "    zmin -= round(padding * length)\n",
    "    xmax += round(padding * length)\n",
    "    ymax += round(padding * length)\n",
    "    zmax += round(padding * length)\n",
    "\n",
    "    # make sure coords are within bounds\n",
    "    xmin = max(0, xmin)\n",
    "    ymin = max(0, ymin)\n",
    "    zmin = max(0, zmin)\n",
    "    xmax = min(240, xmax)\n",
    "    ymax = min(240, ymax)\n",
    "    zmax = min(155, zmax)\n",
    "\n",
    "    return xmin, xmax, ymin, ymax, zmin, zmax\n",
    "\n",
    "def pad_to_cuboid(arr):\n",
    "    xlen = arr.shape[0]\n",
    "    ylen = arr.shape[1]\n",
    "    zlen = arr.shape[2]\n",
    "    if (xlen != ylen) or (ylen != zlen) or (zlen != xlen):\n",
    "        size = max(xlen, ylen, zlen)\n",
    "\n",
    "        a = (size - xlen) // 2\n",
    "        aa = size - a - xlen\n",
    "\n",
    "        b = (size - ylen) // 2\n",
    "        bb = size - b - ylen\n",
    "\n",
    "        c = (size - zlen) // 2\n",
    "        cc = size - c - zlen\n",
    "\n",
    "        return np.pad(arr, [(a, aa), (b, bb), (c, cc)], mode='constant')\n",
    "    return arr\n",
    "    \n",
    "def pad_x_to_cuboid(arr):\n",
    "    xlen = arr.shape[1]\n",
    "    ylen = arr.shape[2]\n",
    "    zlen = arr.shape[3]\n",
    "    if (xlen != ylen) or (ylen != zlen) or (zlen != xlen):\n",
    "        size = max(xlen, ylen, zlen)\n",
    "\n",
    "        a = (size - xlen) // 2\n",
    "        aa = size - a - xlen\n",
    "\n",
    "        b = (size - ylen) // 2\n",
    "        bb = size - b - ylen\n",
    "\n",
    "        c = (size - zlen) // 2\n",
    "        cc = size - c - zlen\n",
    "\n",
    "        return np.pad(arr, [(0, 0), (a, aa), (b, bb), (c, cc)], mode='constant')\n",
    "    return arr\n",
    "\n",
    "def preprocess_mask_labels(mask: np.ndarray):\n",
    "    mask_WT = mask.copy()\n",
    "    mask_WT[mask_WT == 1] = 1\n",
    "    mask_WT[mask_WT == 2] = 1\n",
    "    mask_WT[mask_WT == 4] = 1\n",
    "\n",
    "    mask_TC = mask.copy()\n",
    "    mask_TC[mask_TC == 1] = 1\n",
    "    mask_TC[mask_TC == 2] = 0\n",
    "    mask_TC[mask_TC == 4] = 1\n",
    "\n",
    "    mask_ET = mask.copy()\n",
    "    mask_ET[mask_ET == 1] = 0\n",
    "    mask_ET[mask_ET == 2] = 0\n",
    "    mask_ET[mask_ET == 4] = 1\n",
    "\n",
    "    mask = np.stack([mask_TC, mask_WT , mask_ET])\n",
    "    return mask\n",
    "    \n",
    "def normalize(data: np.ndarray):\n",
    "    return (data - data.mean()) / data.std()\n",
    "\n",
    "def dice(prob, truth, eps: float = 1e-9):\n",
    "    pred = (prob >= 0.5)\n",
    "    intersection = 2.0 * (pred * truth).sum()\n",
    "    union = truth.sum() + pred.sum()\n",
    "    if truth.sum() == 0 and pred.sum() == 0:\n",
    "        return 1.0\n",
    "    else:\n",
    "        return ((intersection + eps) / union).item()\n",
    "\n",
    "def dice_overall(probabilities, truth, threshold: float = 0.5, eps: float = 1e-9):\n",
    "    scores = []\n",
    "    num = probabilities.shape[0]\n",
    "    predictions = (probabilities >= threshold)\n",
    "    assert(predictions.shape == truth.shape)\n",
    "    for i in range(num):\n",
    "        prediction = predictions[i]\n",
    "        truth_ = truth[i]\n",
    "        intersection = 2.0 * (truth_ * prediction).sum()\n",
    "        union = truth_.sum() + prediction.sum()\n",
    "        if truth_.sum() == 0 and prediction.sum() == 0:\n",
    "            scores.append(1.0)\n",
    "        else:\n",
    "            scores.append(((intersection + eps) / union).item())\n",
    "    return np.mean(scores)\n",
    "\n",
    "\n",
    "PATH = \"./bbox_models/d3c40newdata.pt\"\n",
    "bbox_model = Model(in_channels=4, n_classes=3, n_channels=40)\n",
    "bbox_model.load_state_dict(torch.load(PATH))\n",
    "bbox_model.eval()\n",
    "print(f\"loaded {PATH}\")\n",
    "\n",
    "PATH = \"./segment_models/d3c40bbox.pt\"\n",
    "segment_model = Model(in_channels=4, n_classes=3, n_channels=40)\n",
    "segment_model.load_state_dict(torch.load(PATH))\n",
    "segment_model.eval()\n",
    "print(f\"loaded {PATH}\")\n",
    "\n",
    "rootPath = \"/projects/ab57/data/BraTS2021_Training_Combined/\"\n",
    "\n",
    "sources = []\n",
    "targets = []\n",
    "        \n",
    "pathSource = os.path.join(rootPath, 'source')\n",
    "imgPaths = os.listdir(pathSource)\n",
    "for path in imgPaths:\n",
    "    if path.endswith('.npy'):\n",
    "        sources.append(os.path.join(pathSource, path))\n",
    "\n",
    "pathTarget = os.path.join(rootPath, 'target')\n",
    "imgPaths = os.listdir(pathTarget)\n",
    "for path in imgPaths:\n",
    "    if path.endswith('.npy'):\n",
    "        targets.append(os.path.join(pathTarget, path))\n",
    "\n",
    "# Validate on last 200 images\n",
    "n = 200\n",
    "sources = sources[-n:]\n",
    "targets = targets[-n:]\n",
    "\n",
    "subject = []\n",
    "# scores\n",
    "overall = []\n",
    "WT = []\n",
    "TC = []\n",
    "ET = []\n",
    "\n",
    "# sizes\n",
    "NULLs = []\n",
    "ETs = []\n",
    "WTs = []\n",
    "TCs = []\n",
    "\n",
    "for src, tgt in tqdm(zip(sources, targets)):\n",
    "    ''' First Stage '''\n",
    "    x = np.load(src)\n",
    "    \n",
    "    # scale down image\n",
    "    # x = scipy.ndimage.zoom(x, (1, 0.5, 0.5, 0.5), order=0)\n",
    "    \n",
    "    # crop to brain extent\n",
    "    rmin, rmax, cmin, cmax, zmin, zmax = get_bbox(x[0])\n",
    "    x = x[:, rmin:rmax, cmin:cmax, zmin:zmax]\n",
    "\n",
    "    x = normalize(x)\n",
    "    x = torch.from_numpy(x)\n",
    "    x = x.unsqueeze(0)\n",
    "    x = x.float()\n",
    "\n",
    "    pred = bbox_model(x)\n",
    "    pred = torch.sigmoid(pred)[0]\n",
    "    pred1 = pred.detach().cpu().numpy()\n",
    "    \n",
    "    # scale up prediction\n",
    "    # pred = scipy.ndimage.zoom(pred, (1, 2, 2, 2), order=0)\n",
    "    \n",
    "    ''' Second Stage '''\n",
    "    x = np.load(src)\n",
    "    \n",
    "    # crop to brain extent\n",
    "    rmin, rmax, cmin, cmax, zmin, zmax = get_bbox(x[0])\n",
    "    x = x[:, rmin:rmax, cmin:cmax, zmin:zmax]\n",
    "    \n",
    "    # crop to tumor bounding box\n",
    "    rmint, rmaxt, cmint, cmaxt, zmint, zmaxt = get_padded_bbox(pred1)\n",
    "    x = x[:, rmint:rmaxt, cmint:cmaxt, zmint:zmaxt]\n",
    "    \n",
    "    # x = pad_x_to_cuboid(x)\n",
    "    x = normalize(x)\n",
    "    x = torch.from_numpy(x)\n",
    "    x = x.unsqueeze(0)\n",
    "    x = x.float()\n",
    "\n",
    "    pred = segment_model(x)\n",
    "    pred = torch.sigmoid(pred)[0]\n",
    "    pred2 = pred.detach().cpu().numpy()\n",
    "    \n",
    "    ''' Combine Predictions '''\n",
    "    # reapply padding to both outputs\n",
    "    pred1 = np.pad(pred1, ((0, 0), (rmin, 240-rmin-pred1.shape[1]), (cmin, 240-cmin-pred1.shape[2]), (zmin, 155-zmin-pred1.shape[3])), 'constant', constant_values=(0))\n",
    "    pred2 = np.pad(pred2, ((0, 0), (rmin+rmint, 240-(rmin+rmint)-pred2.shape[1]), (cmin+cmint, 240-(cmin+cmint)-pred2.shape[2]), (zmin+zmint, 155-(zmin+zmint)-pred2.shape[3])), 'constant', constant_values=(0))\n",
    "    # print(f\"pred1 padded: {pred1.shape}\")\n",
    "    # print(f\"pred2 padded: {pred2.shape}\")\n",
    "    \n",
    "    # take average of the two\n",
    "    pred = np.mean(np.array([ pred1, pred2 ]), axis=0)\n",
    "    \n",
    "    ''' Calculate Scores '''\n",
    "    y = np.load(tgt)\n",
    "    # y = pad_to_cuboid(y)\n",
    "    y = preprocess_mask_labels(y)\n",
    "    \n",
    "    score = dice_overall(pred, y)\n",
    "    scoreWT = dice(pred[1], y[1])\n",
    "    scoreTC = dice(pred[0], y[0])\n",
    "    scoreET = dice(pred[2], y[2])\n",
    "    print(f\"\\x1B[33mOverall: {score}\\x1B[0m\")\n",
    "    print(f\" - DICE_WT: {scoreWT}\")\n",
    "    print(f\" - DICE_TC: {scoreTC}\")\n",
    "    print(f\" - DICE_ET: {scoreET}\")\n",
    "    \n",
    "    subject.append(src.split('/')[-1])\n",
    "    overall.append(score)\n",
    "    WT.append(scoreWT)\n",
    "    TC.append(scoreTC)\n",
    "    ET.append(scoreET)\n",
    "    \n",
    "    # calculate tumour sizes\n",
    "    binary = np.load(tgt).astype(int)\n",
    "    subregions, sizes = np.unique(binary, return_counts=True)\n",
    "    if 1 not in subregions:\n",
    "        sizes = np.insert(sizes, 1, 0)\n",
    "    if 2 not in subregions:\n",
    "        sizes = np.insert(sizes, 2, 0)\n",
    "    if 4 not in subregions:\n",
    "        sizes = np.insert(sizes, 3, 0)\n",
    "    \n",
    "    NULL_area, ET_area, WT_area, TC_area = sizes\n",
    "    NULLs.append(NULL_area)\n",
    "    ETs.append(ET_area)\n",
    "    WTs.append(WT_area)\n",
    "    TCs.append(TC_area)\n",
    "\n",
    "print('writing scores to file')\n",
    "import csv\n",
    "rows = zip(subject, overall, WT, TC, ET, WTs, TCs, ETs, NULLs)\n",
    "with open(\"./combinebothstages.csv\", \"w\") as f:\n",
    "    writer = csv.writer(f)\n",
    "    writer.writerow(['SUBJECT', 'OVERALL', 'WT', 'TC', 'ET', 'WT_area', 'TC_area', 'ET_area', 'NULL_area'])\n",
    "    for row in rows:\n",
    "        writer.writerow(row)\n",
    "print(f\"Averages: overall: {np.mean(overall)}, WT: {np.mean(WT)}, TC: {np.mean(TC)}, ET: {np.mean(ET)}, WT_area: {np.mean(WTs)}, TC_area: {np.mean(TCs)}, ET_area: {np.mean(ETs)}\")"
   ]
  },
  {
   "cell_type": "code",
   "execution_count": null,
   "metadata": {},
   "outputs": [],
   "source": []
  }
 ],
 "metadata": {
  "kernelspec": {
   "display_name": "Python 3",
   "language": "python",
   "name": "python3"
  },
  "language_info": {
   "codemirror_mode": {
    "name": "ipython",
    "version": 3
   },
   "file_extension": ".py",
   "mimetype": "text/x-python",
   "name": "python",
   "nbconvert_exporter": "python",
   "pygments_lexer": "ipython3",
   "version": "3.6.9"
  }
 },
 "nbformat": 4,
 "nbformat_minor": 4
}
